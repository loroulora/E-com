{
 "cells": [
  {
   "cell_type": "markdown",
   "metadata": {},
   "source": [
    "Проект e-commerce: вариант 1 \n",
    "Продакт-менеджер Василий попросил вас проанализировать совершенные покупки и ответить на следующие вопросы:\n",
    "\n",
    "1. Сколько у нас пользователей, которые совершили покупку только один раз? (7 баллов) \n",
    "\n",
    "2. Сколько заказов в месяц в среднем не доставляется по разным причинам (вывести детализацию по причинам)? (5 баллов)\n",
    "\n",
    "3. По каждому товару определить, в какой день недели товар чаще всего покупается. (5 баллов)\n",
    "\n",
    "4. Сколько у каждого из пользователей в среднем покупок в неделю (по месяцам)? Не стоит забывать, что внутри месяца может быть не целое количество недель. Например, в ноябре 2021 года 4,28 недели. И внутри метрики это нужно учесть. (8 баллов) \n",
    "\n",
    "5. Используя pandas, проведи когортный анализ пользователей. В период с января по декабрь выяви когорту с самым высоким retention на 3й месяц. Описание подхода можно найти тут. (10 баллов)\n",
    "\n",
    "6. Часто для качественного анализа аудитории использую подходы, основанные на сегментации. Используя python, построй RFM-сегментацию пользователей, чтобы качественно оценить свою аудиторию. В кластеризации можешь выбрать следующие метрики: R - время от последней покупки пользователя до текущей даты, F - суммарное количество покупок у пользователя за всё время, M - сумма покупок за всё время. Подробно опиши, как ты создавал кластеры. Для каждого RFM-сегмента построй границы метрик recency, frequency и monetary для интерпретации этих кластеров. Пример такого описания: RFM-сегмент 132 (recency=1, frequency=3, monetary=2) имеет границы метрик recency от 130 до 500 дней, frequency от 2 до 5 заказов в неделю, monetary от 1780 до 3560 рублей в неделю. Описание подхода можно найти тут. (35 баллов)\n",
    "\n",
    "Для решения задачи проведи предварительное исследование данных и сформулируй, что должно считаться покупкой. Обосновать свой выбор ты можешь с помощью фактов оплат, статусов заказов и других имеющихся данных.\n",
    "\n",
    "Файлы:\n",
    "\n",
    " \n",
    "     olist_customers_datase.csv — таблица с уникальными идентификаторами пользователей\n",
    "\n",
    "customer_id — позаказный идентификатор пользователя\n",
    "\n",
    "customer_unique_id —  уникальный идентификатор пользователя  (аналог номера паспорта)\n",
    "\n",
    "customer_zip_code_prefix —  почтовый индекс пользователя\n",
    "\n",
    "customer_city —  город доставки пользователя\n",
    "\n",
    "customer_state —  штат доставки пользователя\n",
    "\n",
    "\n",
    "    olist_orders_dataset.csv —  таблица заказов\n",
    "\n",
    "order_id —  уникальный идентификатор заказа (номер чека)\n",
    "\n",
    "customer_id —  позаказный идентификатор пользователя\n",
    "\n",
    "order_status —  статус заказа\n",
    "\n",
    "order_purchase_timestamp —  время создания заказа\n",
    "\n",
    "order_approved_at —  время подтверждения оплаты заказа\n",
    "\n",
    "order_delivered_carrier_date —  время передачи заказа в логистическую службу\n",
    "\n",
    "order_delivered_customer_date —  время доставки заказа\n",
    "\n",
    "order_estimated_delivery_date —  обещанная дата доставки\n",
    "\n",
    "\n",
    "    olist_order_items_dataset.csv —  товарные позиции, входящие в заказы\n",
    "\n",
    "order_id —  уникальный идентификатор заказа (номер чека)\n",
    "\n",
    "order_item_id —  идентификатор товара внутри одного заказа\n",
    "\n",
    "product_id —  ид товара (аналог штрихкода)\n",
    "\n",
    "seller_id — ид производителя товара\n",
    "\n",
    "shipping_limit_date —  максимальная дата доставки продавцом для передачи заказа партнеру по логистике\n",
    "\n",
    "price —  цена за единицу товара\n",
    "\n",
    "freight_value —  вес товара\n",
    "\n",
    "— Пример структуры данных можно визуализировать по order_id == 00143d0f86d6fbd9f9b38ab440ac16f5\n",
    "\n",
    "Уникальные статусы заказов в таблице olist_orders_dataset:\n",
    "\n",
    "created —  создан\n",
    "\n",
    "approved —  подтверждён\n",
    "\n",
    "invoiced —  выставлен счёт\n",
    "\n",
    "processing —  в процессе сборки заказа\n",
    "\n",
    "shipped —  отгружен со склада\n",
    "\n",
    "delivered —  доставлен пользователю\n",
    "\n",
    "unavailable —  недоступен\n",
    "\n",
    "canceled —  отменён\n",
    "\n"
   ]
  },
  {
   "cell_type": "markdown",
   "metadata": {},
   "source": [
    "Подключим необходимые библиотеки и настроим параметры графиков "
   ]
  },
  {
   "cell_type": "code",
   "execution_count": null,
   "metadata": {},
   "outputs": [],
   "source": [
    "import pandas               as pd\n",
    "import numpy                as np\n",
    "import seaborn              as sns\n",
    "import matplotlib.pyplot    as plt\n",
    "from datetime     import timedelta\n",
    "from operator    import attrgetter\n",
    "import warnings\n",
    "warnings.filterwarnings('ignore')\n",
    "import requests \n",
    "from urllib.parse import urlencode\n",
    "from datetime     import timedelta"
   ]
  },
  {
   "cell_type": "code",
   "execution_count": null,
   "metadata": {},
   "outputs": [],
   "source": [
    "sns.set(\n",
    "    font_scale=1,\n",
    "    style=\"whitegrid\",\n",
    "    rc={'figure.figsize':(40,7)}\n",
    "        )"
   ]
  },
  {
   "cell_type": "markdown",
   "metadata": {},
   "source": [
    "Прочитаем данные которые нам предоставили "
   ]
  },
  {
   "cell_type": "code",
   "execution_count": null,
   "metadata": {},
   "outputs": [],
   "source": [
    "df_c = pd.read_csv\\\n",
    "('/mnt/HC_Volume_18315164/home-jupyter/jupyter-s-nikitin/1_FIRST_PROJECT_E_COM/olist_customers_dataset.csv')"
   ]
  },
  {
   "cell_type": "code",
   "execution_count": null,
   "metadata": {},
   "outputs": [],
   "source": [
    "df_c.head()\n",
    "# таблица с уникальными идентификаторами пользователей"
   ]
  },
  {
   "cell_type": "code",
   "execution_count": null,
   "metadata": {},
   "outputs": [],
   "source": [
    "df_o = pd.read_csv\\\n",
    "('/mnt/HC_Volume_18315164/home-jupyter/jupyter-s-nikitin/1_FIRST_PROJECT_E_COM/olist_orders_dataset.csv')"
   ]
  },
  {
   "cell_type": "code",
   "execution_count": null,
   "metadata": {},
   "outputs": [],
   "source": [
    "df_o.head()\n",
    "# таблица заказов"
   ]
  },
  {
   "cell_type": "code",
   "execution_count": null,
   "metadata": {},
   "outputs": [],
   "source": [
    "df_i = pd.read_csv\\\n",
    "('/mnt/HC_Volume_18315164/home-jupyter/jupyter-s-nikitin/1_FIRST_PROJECT_E_COM/olist_order_items_dataset.csv')"
   ]
  },
  {
   "cell_type": "code",
   "execution_count": null,
   "metadata": {},
   "outputs": [],
   "source": [
    "df_i.head()\n",
    "# товарные позиции, входящие в заказы"
   ]
  },
  {
   "cell_type": "markdown",
   "metadata": {},
   "source": [
    "Проверим типы данных "
   ]
  },
  {
   "cell_type": "code",
   "execution_count": null,
   "metadata": {},
   "outputs": [],
   "source": [
    "df_c.dtypes"
   ]
  },
  {
   "cell_type": "code",
   "execution_count": null,
   "metadata": {},
   "outputs": [],
   "source": [
    "df_o.dtypes"
   ]
  },
  {
   "cell_type": "code",
   "execution_count": null,
   "metadata": {},
   "outputs": [],
   "source": [
    "df_i.dtypes"
   ]
  },
  {
   "cell_type": "markdown",
   "metadata": {},
   "source": [
    "Проверим размер датафреймов"
   ]
  },
  {
   "cell_type": "code",
   "execution_count": null,
   "metadata": {},
   "outputs": [],
   "source": [
    "df_c.shape"
   ]
  },
  {
   "cell_type": "code",
   "execution_count": null,
   "metadata": {},
   "outputs": [],
   "source": [
    "df_o.shape"
   ]
  },
  {
   "cell_type": "code",
   "execution_count": null,
   "metadata": {},
   "outputs": [],
   "source": [
    "df_i.shape"
   ]
  },
  {
   "cell_type": "markdown",
   "metadata": {},
   "source": [
    "Проверим количество нулевых значений"
   ]
  },
  {
   "cell_type": "code",
   "execution_count": null,
   "metadata": {},
   "outputs": [],
   "source": [
    "df_c.isna().sum()"
   ]
  },
  {
   "cell_type": "code",
   "execution_count": null,
   "metadata": {},
   "outputs": [],
   "source": [
    "df_o.isna().sum()"
   ]
  },
  {
   "cell_type": "code",
   "execution_count": null,
   "metadata": {},
   "outputs": [],
   "source": [
    "df_i.isna().sum()"
   ]
  },
  {
   "cell_type": "markdown",
   "metadata": {},
   "source": [
    "Сколько уникальных значений встречается"
   ]
  },
  {
   "cell_type": "code",
   "execution_count": null,
   "metadata": {},
   "outputs": [],
   "source": [
    "df_c.nunique()"
   ]
  },
  {
   "cell_type": "code",
   "execution_count": null,
   "metadata": {},
   "outputs": [],
   "source": [
    "df_o.nunique()"
   ]
  },
  {
   "cell_type": "code",
   "execution_count": null,
   "metadata": {},
   "outputs": [],
   "source": [
    "df_i.nunique()"
   ]
  },
  {
   "cell_type": "code",
   "execution_count": null,
   "metadata": {},
   "outputs": [],
   "source": [
    "df_c.groupby('customer_id').agg({'customer_id':'count'})"
   ]
  },
  {
   "cell_type": "markdown",
   "metadata": {},
   "source": [
    "# 1. Сколько у нас пользователей, которые совершили покупку только один раз?\n"
   ]
  },
  {
   "cell_type": "code",
   "execution_count": null,
   "metadata": {},
   "outputs": [],
   "source": [
    "df_o['customer_id'].describe()"
   ]
  },
  {
   "cell_type": "code",
   "execution_count": null,
   "metadata": {},
   "outputs": [],
   "source": [
    "df_o['order_status'].describe()"
   ]
  },
  {
   "cell_type": "code",
   "execution_count": null,
   "metadata": {},
   "outputs": [],
   "source": [
    "df_o['order_status'].value_counts()\n",
    "# посмотрев на основные показания, необходимо убрать для очистки данных все нулевые строки "
   ]
  },
  {
   "cell_type": "code",
   "execution_count": null,
   "metadata": {},
   "outputs": [],
   "source": [
    "df_o.groupby(\"order_status\", as_index=False).agg({'customer_id':'count'})"
   ]
  },
  {
   "cell_type": "markdown",
   "metadata": {},
   "source": [
    "предлагаю в качестве покупки считать только те заказы которые имеют статус (delivered)"
   ]
  },
  {
   "cell_type": "code",
   "execution_count": null,
   "metadata": {},
   "outputs": [],
   "source": [
    "df_o_q=df_o.query(\"order_status == 'delivered'\")"
   ]
  },
  {
   "cell_type": "markdown",
   "metadata": {},
   "source": [
    "теперь объеденим таблицы df_o и df_c(пользователи и заказы) с помощью метода (merge)"
   ]
  },
  {
   "cell_type": "code",
   "execution_count": null,
   "metadata": {},
   "outputs": [],
   "source": [
    "df_o_q1=df_o_q.merge(df_c, how='left', on='customer_id')"
   ]
  },
  {
   "cell_type": "code",
   "execution_count": null,
   "metadata": {
    "scrolled": false
   },
   "outputs": [],
   "source": [
    "df_o_q1\\\n",
    "    .groupby('customer_unique_id', as_index=False)\\\n",
    "    .agg({'order_id':'count'})\\\n",
    "    .query(\"order_id == 1\")\\\n"
   ]
  },
  {
   "cell_type": "markdown",
   "metadata": {},
   "source": [
    "90557"
   ]
  },
  {
   "cell_type": "markdown",
   "metadata": {},
   "source": [
    "# Сколько заказов в месяц в среднем не доставляется по разным причинам (вывести детализацию по причинам)? "
   ]
  },
  {
   "cell_type": "markdown",
   "metadata": {},
   "source": [
    "Так как вопрос касается только заказов, будем работать с таблицей заказов df_o"
   ]
  },
  {
   "cell_type": "code",
   "execution_count": null,
   "metadata": {
    "scrolled": false
   },
   "outputs": [],
   "source": [
    "df_o.head()"
   ]
  },
  {
   "cell_type": "markdown",
   "metadata": {},
   "source": [
    "Так как нам нужно найти причины того, что заказы не доставлены, проверим какие статусы заказов у нас имееются и их количество "
   ]
  },
  {
   "cell_type": "code",
   "execution_count": null,
   "metadata": {},
   "outputs": [],
   "source": [
    "df_o.order_status.value_counts()"
   ]
  },
  {
   "cell_type": "markdown",
   "metadata": {},
   "source": [
    "Далее проверим типы данных"
   ]
  },
  {
   "cell_type": "code",
   "execution_count": null,
   "metadata": {},
   "outputs": [],
   "source": [
    "df_o.dtypes"
   ]
  },
  {
   "cell_type": "markdown",
   "metadata": {},
   "source": [
    "Так как у нас стоит задача дать ответ по месяцам, переведем нужные нам колонки в формат даты"
   ]
  },
  {
   "cell_type": "code",
   "execution_count": null,
   "metadata": {},
   "outputs": [],
   "source": [
    "df_o['order_purchase_timestamp']=pd.to_datetime(df_o['order_purchase_timestamp'])"
   ]
  },
  {
   "cell_type": "code",
   "execution_count": null,
   "metadata": {},
   "outputs": [],
   "source": [
    "df_o['order_approved_at']=pd.to_datetime(df_o['order_approved_at'])"
   ]
  },
  {
   "cell_type": "code",
   "execution_count": null,
   "metadata": {},
   "outputs": [],
   "source": [
    "df_o['order_delivered_carrier_date']=pd.to_datetime(df_o['order_delivered_carrier_date'])"
   ]
  },
  {
   "cell_type": "code",
   "execution_count": null,
   "metadata": {},
   "outputs": [],
   "source": [
    "df_o['order_delivered_customer_date']=pd.to_datetime(df_o['order_delivered_customer_date'])"
   ]
  },
  {
   "cell_type": "code",
   "execution_count": null,
   "metadata": {},
   "outputs": [],
   "source": [
    "df_o['order_estimated_delivery_date']=pd.to_datetime(df_o['order_estimated_delivery_date'])"
   ]
  },
  {
   "cell_type": "code",
   "execution_count": null,
   "metadata": {},
   "outputs": [],
   "source": [
    "df_o.dtypes"
   ]
  },
  {
   "cell_type": "code",
   "execution_count": null,
   "metadata": {},
   "outputs": [],
   "source": [
    "df_o.head()"
   ]
  },
  {
   "cell_type": "markdown",
   "metadata": {},
   "source": [
    "Итак\n",
    "\n",
    "approved - заказ подтвержден, но еще не доставлен\n",
    "\n",
    "canceled - заказ отменен, о доставке нет речи\n",
    "\n",
    "created - заказ только создан, еще далеко до доставки\n",
    "\n",
    "delivered - доставлен пользователю, здесь явно ошибка, заказы с таким статусом нам не подойдут\n",
    "\n",
    "invoiced - выставлен счёт, пока рано доставлять\n",
    "\n",
    "processing - в процессе сборки заказа, еще не доставили\n",
    "\n",
    "shipped - отгружен со склада, еще в процессе доставки\n",
    "\n",
    "unavailable - недоступен, не доставлен\n",
    "\n",
    "У нас есть статус delivered, что противоречит условию, убираем заказы с этим статусом"
   ]
  },
  {
   "cell_type": "markdown",
   "metadata": {},
   "source": [
    "Для дальнейшего анализа проверим данные на наличие Nan "
   ]
  },
  {
   "cell_type": "code",
   "execution_count": null,
   "metadata": {},
   "outputs": [],
   "source": [
    "df_o.isna().sum()"
   ]
  },
  {
   "cell_type": "markdown",
   "metadata": {},
   "source": [
    "Перезапишем датафрейм и заменим Nan значения на 0"
   ]
  },
  {
   "cell_type": "code",
   "execution_count": null,
   "metadata": {},
   "outputs": [],
   "source": [
    "df_o.fillna(0).query('order_delivered_customer_date == 0')\\\n",
    "    .groupby('order_status',as_index=False)\\\n",
    "    .agg({'order_purchase_timestamp':'count'})\\\n",
    "    .rename(columns={'order_purchase_timestamp':'count'})"
   ]
  },
  {
   "cell_type": "code",
   "execution_count": null,
   "metadata": {},
   "outputs": [],
   "source": [
    "undelivered=df_o.fillna(0).query('order_delivered_customer_date == 0 and order_status != \"delivered\"')"
   ]
  },
  {
   "cell_type": "code",
   "execution_count": null,
   "metadata": {},
   "outputs": [],
   "source": [
    "undelivered.head()"
   ]
  },
  {
   "cell_type": "code",
   "execution_count": null,
   "metadata": {},
   "outputs": [],
   "source": [
    "undelivered.isna().sum()"
   ]
  },
  {
   "cell_type": "code",
   "execution_count": null,
   "metadata": {},
   "outputs": [],
   "source": [
    "undelivered.shape[0]"
   ]
  },
  {
   "cell_type": "markdown",
   "metadata": {},
   "source": [
    "2957\n",
    "Получается такое количество заказов не доставлено, теперь нужно найти среднее количество недоставленных заказов по месяцам"
   ]
  },
  {
   "cell_type": "markdown",
   "metadata": {},
   "source": [
    "Приведем нужную нам колонку к месяцу"
   ]
  },
  {
   "cell_type": "code",
   "execution_count": null,
   "metadata": {},
   "outputs": [],
   "source": [
    "undelivered['order_purchase_timestamp'] = pd.to_datetime(undelivered.order_purchase_timestamp)\n",
    "undelivered['order_purchase_timestamp'] = undelivered.order_purchase_timestamp.dt.strftime('%Y-%m')"
   ]
  },
  {
   "cell_type": "code",
   "execution_count": null,
   "metadata": {},
   "outputs": [],
   "source": [
    "undelivered"
   ]
  },
  {
   "cell_type": "markdown",
   "metadata": {},
   "source": [
    "Теперь ответим на вопрос о причинах "
   ]
  },
  {
   "cell_type": "code",
   "execution_count": null,
   "metadata": {},
   "outputs": [],
   "source": [
    "reasons=undelivered.groupby(['order_status','order_purchase_timestamp'], as_index=False)\\\n",
    "    .agg({'order_id':'count'})\\\n",
    "    .groupby('order_status', as_index=False)\\\n",
    "    .agg({'order_id':'mean'})\\\n",
    "    .round()\\\n",
    "    .sort_values(by='order_id',ascending=False)"
   ]
  },
  {
   "cell_type": "code",
   "execution_count": null,
   "metadata": {},
   "outputs": [],
   "source": [
    "reasons"
   ]
  },
  {
   "cell_type": "markdown",
   "metadata": {},
   "source": [
    "Визуализируем причины"
   ]
  },
  {
   "cell_type": "code",
   "execution_count": null,
   "metadata": {},
   "outputs": [],
   "source": [
    "plt.figure(figsize=(12, 8))\n",
    "sns.barplot(x='order_status', y='order_id', data=reasons)\n",
    "\n",
    "plt.title(label = 'Not delivered  orders',\n",
    "          color = 'black',\n",
    "          fontsize = 20,\n",
    "          x = 0.5,\n",
    "          y = 1.1,\n",
    "          family = 'serif')\n",
    "\n",
    "plt.show()"
   ]
  },
  {
   "cell_type": "markdown",
   "metadata": {},
   "source": [
    "###  Нетрудно заметить, что наибольшее количество заказов, которые не доставили находятся на этапе shipped(отгружен со склада) \n",
    "###  Возможно есть проблемы с оптимизацией передачи заказа логистической фирме(партнеру), а может и поменять партнера доствки. "
   ]
  },
  {
   "cell_type": "markdown",
   "metadata": {},
   "source": [
    "# По каждому товару определить, в какой день недели товар чаще всего покупается. "
   ]
  },
  {
   "cell_type": "markdown",
   "metadata": {},
   "source": [
    "Так как нам предстоит работать с товарами, объеденим две таблицы df_o и df_i(таблица заказов и таблица с товварами входящими в заказ)"
   ]
  },
  {
   "cell_type": "code",
   "execution_count": null,
   "metadata": {},
   "outputs": [],
   "source": [
    "df_o_i=df_o.merge(df_i)"
   ]
  },
  {
   "cell_type": "code",
   "execution_count": null,
   "metadata": {},
   "outputs": [],
   "source": [
    "df_o_i.head()"
   ]
  },
  {
   "cell_type": "markdown",
   "metadata": {},
   "source": [
    "**Теперь применим условие о покупках, напомню что за покупки я взял только те заказы у которых есть статус \"delivered\"**"
   ]
  },
  {
   "cell_type": "code",
   "execution_count": null,
   "metadata": {},
   "outputs": [],
   "source": [
    "order_items=df_o_i.query(\"order_status == 'delivered'\")"
   ]
  },
  {
   "cell_type": "code",
   "execution_count": null,
   "metadata": {},
   "outputs": [],
   "source": [
    "order_items.head()"
   ]
  },
  {
   "cell_type": "markdown",
   "metadata": {},
   "source": [
    "Проверим типы данных "
   ]
  },
  {
   "cell_type": "code",
   "execution_count": null,
   "metadata": {},
   "outputs": [],
   "source": [
    "order_items.dtypes"
   ]
  },
  {
   "cell_type": "markdown",
   "metadata": {},
   "source": [
    "Создам колонку в которой будет название дня недели(по колонке \"order_delivered_customer_date\", так как покупки я определяю по статусу \"delivered\")"
   ]
  },
  {
   "cell_type": "code",
   "execution_count": null,
   "metadata": {},
   "outputs": [],
   "source": [
    "order_items['day']=order_items.order_delivered_customer_date.dt.day_name()"
   ]
  },
  {
   "cell_type": "markdown",
   "metadata": {},
   "source": [
    "Ответим на вопрос задачи: "
   ]
  },
  {
   "cell_type": "code",
   "execution_count": null,
   "metadata": {},
   "outputs": [],
   "source": [
    "order_items.groupby(['product_id', 'day'], as_index=False)\\\n",
    "    .agg({'order_id':'count'})\\\n",
    "    .sort_values('order_id', ascending=False)\\\n",
    "    .drop_duplicates(subset='product_id')\n"
   ]
  },
  {
   "cell_type": "markdown",
   "metadata": {},
   "source": [
    "# Сколько у каждого из пользователей в среднем покупок в неделю (по месяцам)? Не стоит забывать, что внутри месяца может быть не целое количество недель. Например, в ноябре 2021 года 4,28 недели. И внутри метрики это нужно учесть."
   ]
  },
  {
   "cell_type": "markdown",
   "metadata": {},
   "source": [
    "Объеденим все три таблицы, взяв одну объединённую из прошлого задания, где в качестве покупки я беру статус заказа \"delivered\""
   ]
  },
  {
   "cell_type": "code",
   "execution_count": null,
   "metadata": {},
   "outputs": [],
   "source": [
    "merge_orders_items_customers=order_items.merge(df_c)"
   ]
  },
  {
   "cell_type": "code",
   "execution_count": null,
   "metadata": {},
   "outputs": [],
   "source": [
    "merge_orders_items_customers.dtypes"
   ]
  },
  {
   "cell_type": "code",
   "execution_count": null,
   "metadata": {},
   "outputs": [],
   "source": [
    "merge_orders_items_customers.head()"
   ]
  },
  {
   "cell_type": "markdown",
   "metadata": {},
   "source": [
    "Необходимо найти покупки в месяц, поэтому поработаем с order_purchase_timestamp и приведем данные столбца к месяцу"
   ]
  },
  {
   "cell_type": "code",
   "execution_count": null,
   "metadata": {},
   "outputs": [],
   "source": [
    "merge_orders_items_customers['order_delivered_customer_date'] = merge_orders_items_customers\\\n",
    ".order_delivered_customer_date.dt.strftime('%Y-%m')"
   ]
  },
  {
   "cell_type": "markdown",
   "metadata": {},
   "source": [
    "Создадим новый датафрейм, где укажем количество покупок по месяцам"
   ]
  },
  {
   "cell_type": "code",
   "execution_count": null,
   "metadata": {},
   "outputs": [],
   "source": [
    "df_e=merge_orders_items_customers.groupby(['customer_unique_id', 'order_delivered_customer_date'], as_index=False)\\\n",
    "    .agg({'order_status':'count'})"
   ]
  },
  {
   "cell_type": "markdown",
   "metadata": {},
   "source": [
    "Создадим новую колонку с количеством дней в месяце"
   ]
  },
  {
   "cell_type": "code",
   "execution_count": null,
   "metadata": {},
   "outputs": [],
   "source": [
    "df_e['day']=pd.to_datetime(df_e.order_delivered_customer_date)"
   ]
  },
  {
   "cell_type": "code",
   "execution_count": null,
   "metadata": {},
   "outputs": [],
   "source": [
    "df_e.day = df_e.day.dt.days_in_month"
   ]
  },
  {
   "cell_type": "markdown",
   "metadata": {},
   "source": [
    "Теперь добавим колонку с количеством недель в месяце для более точного значения в метрике "
   ]
  },
  {
   "cell_type": "code",
   "execution_count": null,
   "metadata": {},
   "outputs": [],
   "source": [
    "df_e['weeks']=df_e.day/7"
   ]
  },
  {
   "cell_type": "code",
   "execution_count": null,
   "metadata": {},
   "outputs": [],
   "source": [
    "df_e.head()"
   ]
  },
  {
   "cell_type": "markdown",
   "metadata": {},
   "source": [
    "Теперь найдем количество покупок по месяцам "
   ]
  },
  {
   "cell_type": "code",
   "execution_count": null,
   "metadata": {},
   "outputs": [],
   "source": [
    "df_e['metric']=df_e.order_status/df_e.weeks"
   ]
  },
  {
   "cell_type": "code",
   "execution_count": null,
   "metadata": {},
   "outputs": [],
   "source": [
    "df_e.head()"
   ]
  },
  {
   "cell_type": "markdown",
   "metadata": {},
   "source": [
    "# Используя pandas, проведи когортный анализ пользователей. В период с января по декабрь выяви когорту с самым высоким retention на 3й месяц."
   ]
  },
  {
   "cell_type": "markdown",
   "metadata": {},
   "source": [
    "Для начала объеденим таблицы df_o и df_i(таблица заказов и таблица с товварами входящими в заказ)"
   ]
  },
  {
   "cell_type": "code",
   "execution_count": null,
   "metadata": {},
   "outputs": [],
   "source": [
    "for_kohort=df_o.merge(df_c)"
   ]
  },
  {
   "cell_type": "code",
   "execution_count": null,
   "metadata": {
    "scrolled": true
   },
   "outputs": [],
   "source": [
    "for_kohort.head()"
   ]
  },
  {
   "cell_type": "markdown",
   "metadata": {},
   "source": [
    "По условию задачи нам нужно работать с retention.\n",
    "\n",
    "Retention (Возвратность) — характеристика группы пользователей, вычисляемая соотношением активных пользователей в определённые временные промежутки. Пример: некоторое приложение установили 50 человек, через неделю активными пользователями остались лишь 5 человек; возвратность: 5 / 50 * 100% = 10%."
   ]
  },
  {
   "cell_type": "markdown",
   "metadata": {},
   "source": [
    "Для начала уберем все нулевые значения"
   ]
  },
  {
   "cell_type": "code",
   "execution_count": null,
   "metadata": {},
   "outputs": [],
   "source": [
    "for_kohort.isna().sum()"
   ]
  },
  {
   "cell_type": "code",
   "execution_count": null,
   "metadata": {},
   "outputs": [],
   "source": [
    "for_kohort_new = for_kohort.dropna(axis='index', how='any', subset=['order_approved_at'])"
   ]
  },
  {
   "cell_type": "code",
   "execution_count": null,
   "metadata": {},
   "outputs": [],
   "source": [
    "for_kohort_new.isna().sum()"
   ]
  },
  {
   "cell_type": "markdown",
   "metadata": {},
   "source": [
    "Теперь надо найти дату первой покупки "
   ]
  },
  {
   "cell_type": "code",
   "execution_count": null,
   "metadata": {},
   "outputs": [],
   "source": [
    "for_kohort_new.dtypes"
   ]
  },
  {
   "cell_type": "code",
   "execution_count": null,
   "metadata": {},
   "outputs": [],
   "source": [
    "for_kohort_new['first_purchase'] = for_kohort_new.groupby('customer_unique_id')['order_approved_at'].transform('min')\n"
   ]
  },
  {
   "cell_type": "code",
   "execution_count": 178,
   "metadata": {},
   "outputs": [
    {
     "ename": "AttributeError",
     "evalue": "Can only use .dt accessor with datetimelike values",
     "output_type": "error",
     "traceback": [
      "\u001b[0;31m---------------------------------------------------------------------------\u001b[0m",
      "\u001b[0;31mAttributeError\u001b[0m                            Traceback (most recent call last)",
      "\u001b[0;32m<ipython-input-178-b4bfff8a63c7>\u001b[0m in \u001b[0;36m<module>\u001b[0;34m\u001b[0m\n\u001b[0;32m----> 1\u001b[0;31m \u001b[0mfor_kohort_new\u001b[0m\u001b[0;34m.\u001b[0m\u001b[0morder_purchase_timestamp\u001b[0m \u001b[0;34m=\u001b[0m \u001b[0mfor_kohort_new\u001b[0m\u001b[0;34m.\u001b[0m\u001b[0morder_purchase_timestamp\u001b[0m\u001b[0;34m.\u001b[0m\u001b[0mdt\u001b[0m\u001b[0;34m.\u001b[0m\u001b[0mstrftime\u001b[0m\u001b[0;34m(\u001b[0m\u001b[0;34m'%Y-%m'\u001b[0m\u001b[0;34m)\u001b[0m\u001b[0;34m\u001b[0m\u001b[0;34m\u001b[0m\u001b[0m\n\u001b[0m\u001b[1;32m      2\u001b[0m \u001b[0mfor_kohort_new\u001b[0m\u001b[0;34m.\u001b[0m\u001b[0morder_approved_at\u001b[0m \u001b[0;34m=\u001b[0m \u001b[0mfor_kohort_new\u001b[0m\u001b[0;34m.\u001b[0m\u001b[0morder_approved_at\u001b[0m\u001b[0;34m.\u001b[0m\u001b[0mdt\u001b[0m\u001b[0;34m.\u001b[0m\u001b[0mstrftime\u001b[0m\u001b[0;34m(\u001b[0m\u001b[0;34m'%Y-%m'\u001b[0m\u001b[0;34m)\u001b[0m\u001b[0;34m\u001b[0m\u001b[0;34m\u001b[0m\u001b[0m\n\u001b[1;32m      3\u001b[0m \u001b[0mfor_kohort_new\u001b[0m\u001b[0;34m.\u001b[0m\u001b[0mfirst_purchase\u001b[0m \u001b[0;34m=\u001b[0m \u001b[0mfor_kohort_new\u001b[0m\u001b[0;34m[\u001b[0m\u001b[0;34m'first_purchase'\u001b[0m\u001b[0;34m]\u001b[0m\u001b[0;34m.\u001b[0m\u001b[0mdt\u001b[0m\u001b[0;34m.\u001b[0m\u001b[0mstrftime\u001b[0m\u001b[0;34m(\u001b[0m\u001b[0;34m'%Y-%m'\u001b[0m\u001b[0;34m)\u001b[0m\u001b[0;34m\u001b[0m\u001b[0;34m\u001b[0m\u001b[0m\n",
      "\u001b[0;32m/opt/tljh/user/lib/python3.7/site-packages/pandas/core/generic.py\u001b[0m in \u001b[0;36m__getattr__\u001b[0;34m(self, name)\u001b[0m\n\u001b[1;32m   5130\u001b[0m             \u001b[0;32mor\u001b[0m \u001b[0mname\u001b[0m \u001b[0;32min\u001b[0m \u001b[0mself\u001b[0m\u001b[0;34m.\u001b[0m\u001b[0m_accessors\u001b[0m\u001b[0;34m\u001b[0m\u001b[0;34m\u001b[0m\u001b[0m\n\u001b[1;32m   5131\u001b[0m         ):\n\u001b[0;32m-> 5132\u001b[0;31m             \u001b[0;32mreturn\u001b[0m \u001b[0mobject\u001b[0m\u001b[0;34m.\u001b[0m\u001b[0m__getattribute__\u001b[0m\u001b[0;34m(\u001b[0m\u001b[0mself\u001b[0m\u001b[0;34m,\u001b[0m \u001b[0mname\u001b[0m\u001b[0;34m)\u001b[0m\u001b[0;34m\u001b[0m\u001b[0;34m\u001b[0m\u001b[0m\n\u001b[0m\u001b[1;32m   5133\u001b[0m         \u001b[0;32melse\u001b[0m\u001b[0;34m:\u001b[0m\u001b[0;34m\u001b[0m\u001b[0;34m\u001b[0m\u001b[0m\n\u001b[1;32m   5134\u001b[0m             \u001b[0;32mif\u001b[0m \u001b[0mself\u001b[0m\u001b[0;34m.\u001b[0m\u001b[0m_info_axis\u001b[0m\u001b[0;34m.\u001b[0m\u001b[0m_can_hold_identifiers_and_holds_name\u001b[0m\u001b[0;34m(\u001b[0m\u001b[0mname\u001b[0m\u001b[0;34m)\u001b[0m\u001b[0;34m:\u001b[0m\u001b[0;34m\u001b[0m\u001b[0;34m\u001b[0m\u001b[0m\n",
      "\u001b[0;32m/opt/tljh/user/lib/python3.7/site-packages/pandas/core/accessor.py\u001b[0m in \u001b[0;36m__get__\u001b[0;34m(self, obj, cls)\u001b[0m\n\u001b[1;32m    185\u001b[0m             \u001b[0;31m# we're accessing the attribute of the class, i.e., Dataset.geo\u001b[0m\u001b[0;34m\u001b[0m\u001b[0;34m\u001b[0m\u001b[0;34m\u001b[0m\u001b[0m\n\u001b[1;32m    186\u001b[0m             \u001b[0;32mreturn\u001b[0m \u001b[0mself\u001b[0m\u001b[0;34m.\u001b[0m\u001b[0m_accessor\u001b[0m\u001b[0;34m\u001b[0m\u001b[0;34m\u001b[0m\u001b[0m\n\u001b[0;32m--> 187\u001b[0;31m         \u001b[0maccessor_obj\u001b[0m \u001b[0;34m=\u001b[0m \u001b[0mself\u001b[0m\u001b[0;34m.\u001b[0m\u001b[0m_accessor\u001b[0m\u001b[0;34m(\u001b[0m\u001b[0mobj\u001b[0m\u001b[0;34m)\u001b[0m\u001b[0;34m\u001b[0m\u001b[0;34m\u001b[0m\u001b[0m\n\u001b[0m\u001b[1;32m    188\u001b[0m         \u001b[0;31m# Replace the property with the accessor object. Inspired by:\u001b[0m\u001b[0;34m\u001b[0m\u001b[0;34m\u001b[0m\u001b[0;34m\u001b[0m\u001b[0m\n\u001b[1;32m    189\u001b[0m         \u001b[0;31m# https://www.pydanny.com/cached-property.html\u001b[0m\u001b[0;34m\u001b[0m\u001b[0;34m\u001b[0m\u001b[0;34m\u001b[0m\u001b[0m\n",
      "\u001b[0;32m/opt/tljh/user/lib/python3.7/site-packages/pandas/core/indexes/accessors.py\u001b[0m in \u001b[0;36m__new__\u001b[0;34m(cls, data)\u001b[0m\n\u001b[1;32m    478\u001b[0m             \u001b[0;32mreturn\u001b[0m \u001b[0mPeriodProperties\u001b[0m\u001b[0;34m(\u001b[0m\u001b[0mdata\u001b[0m\u001b[0;34m,\u001b[0m \u001b[0morig\u001b[0m\u001b[0;34m)\u001b[0m\u001b[0;34m\u001b[0m\u001b[0;34m\u001b[0m\u001b[0m\n\u001b[1;32m    479\u001b[0m \u001b[0;34m\u001b[0m\u001b[0m\n\u001b[0;32m--> 480\u001b[0;31m         \u001b[0;32mraise\u001b[0m \u001b[0mAttributeError\u001b[0m\u001b[0;34m(\u001b[0m\u001b[0;34m\"Can only use .dt accessor with datetimelike values\"\u001b[0m\u001b[0;34m)\u001b[0m\u001b[0;34m\u001b[0m\u001b[0;34m\u001b[0m\u001b[0m\n\u001b[0m",
      "\u001b[0;31mAttributeError\u001b[0m: Can only use .dt accessor with datetimelike values"
     ]
    }
   ],
   "source": [
    "for_kohort_new.order_purchase_timestamp = for_kohort_new.order_purchase_timestamp.dt.strftime('%Y-%m')\n",
    "for_kohort_new.order_approved_at = for_kohort_new.order_approved_at.dt.strftime('%Y-%m')\n",
    "for_kohort_new.first_purchase = for_kohort_new['first_purchase'].dt.strftime('%Y-%m')\n"
   ]
  },
  {
   "cell_type": "code",
   "execution_count": null,
   "metadata": {},
   "outputs": [],
   "source": [
    "for_kohort_new.head()"
   ]
  },
  {
   "cell_type": "markdown",
   "metadata": {},
   "source": [
    "Найдем число уникальных покупателей в период с января по декабрь.\n",
    "\n",
    "Для чего отберем только те строки, где статус заказа говорит о покупке, выберем строки, где первая покупка была сделана в промежуток с января по декабрь, сгруппируем по датам покупки и посчитаем число уникальных покупателей."
   ]
  },
  {
   "cell_type": "code",
   "execution_count": 179,
   "metadata": {},
   "outputs": [],
   "source": [
    "for_kohort_table = for_kohort_new.query(\"order_status ==  'delivered'\")\\\n",
    "    .query(\"'2017-01' <= first_purchase <= '2017-12'\")\\\n",
    "    .groupby(['first_purchase', 'order_approved_at'],as_index=False).agg({'customer_unique_id': 'nunique'})\n"
   ]
  },
  {
   "cell_type": "markdown",
   "metadata": {},
   "source": [
    "Приведем даты к номеру месяца"
   ]
  },
  {
   "cell_type": "code",
   "execution_count": 180,
   "metadata": {},
   "outputs": [],
   "source": [
    "for_kohort_table.first_purchase = pd.to_datetime(for_kohort_table.first_purchase).dt.to_period(\"m\")\n",
    "for_kohort_table.order_approved_at = pd.to_datetime(for_kohort_table.order_approved_at).dt.to_period(\"m\")\n"
   ]
  },
  {
   "cell_type": "markdown",
   "metadata": {},
   "source": [
    "Посчитаем число месяцев с первой покупки до последующего подтвержения заказа\n"
   ]
  },
  {
   "cell_type": "code",
   "execution_count": 181,
   "metadata": {},
   "outputs": [],
   "source": [
    "for_kohort_table['diff'] = (for_kohort_table.order_approved_at - for_kohort_table.first_purchase)\\\n",
    "    .apply(attrgetter(\"n\"))"
   ]
  },
  {
   "cell_type": "code",
   "execution_count": 182,
   "metadata": {},
   "outputs": [],
   "source": [
    "for_kohort_table_finish = for_kohort_table\\\n",
    "    .pivot(index='first_purchase', columns = 'diff', values = 'customer_unique_id')\n"
   ]
  },
  {
   "cell_type": "code",
   "execution_count": null,
   "metadata": {},
   "outputs": [],
   "source": []
  },
  {
   "cell_type": "code",
   "execution_count": 183,
   "metadata": {},
   "outputs": [
    {
     "data": {
      "text/html": [
       "<style  type=\"text/css\" >\n",
       "#T_f73ceb4e_b538_11ed_bdbb_96000040dfb6row0_col0,#T_f73ceb4e_b538_11ed_bdbb_96000040dfb6row0_col18,#T_f73ceb4e_b538_11ed_bdbb_96000040dfb6row1_col0,#T_f73ceb4e_b538_11ed_bdbb_96000040dfb6row1_col1,#T_f73ceb4e_b538_11ed_bdbb_96000040dfb6row1_col5,#T_f73ceb4e_b538_11ed_bdbb_96000040dfb6row1_col10,#T_f73ceb4e_b538_11ed_bdbb_96000040dfb6row1_col15,#T_f73ceb4e_b538_11ed_bdbb_96000040dfb6row1_col16,#T_f73ceb4e_b538_11ed_bdbb_96000040dfb6row2_col0,#T_f73ceb4e_b538_11ed_bdbb_96000040dfb6row2_col17,#T_f73ceb4e_b538_11ed_bdbb_96000040dfb6row3_col0,#T_f73ceb4e_b538_11ed_bdbb_96000040dfb6row3_col2,#T_f73ceb4e_b538_11ed_bdbb_96000040dfb6row3_col12,#T_f73ceb4e_b538_11ed_bdbb_96000040dfb6row3_col13,#T_f73ceb4e_b538_11ed_bdbb_96000040dfb6row3_col14,#T_f73ceb4e_b538_11ed_bdbb_96000040dfb6row4_col0,#T_f73ceb4e_b538_11ed_bdbb_96000040dfb6row5_col0,#T_f73ceb4e_b538_11ed_bdbb_96000040dfb6row6_col0,#T_f73ceb4e_b538_11ed_bdbb_96000040dfb6row7_col0,#T_f73ceb4e_b538_11ed_bdbb_96000040dfb6row8_col0,#T_f73ceb4e_b538_11ed_bdbb_96000040dfb6row8_col11,#T_f73ceb4e_b538_11ed_bdbb_96000040dfb6row9_col0,#T_f73ceb4e_b538_11ed_bdbb_96000040dfb6row9_col3,#T_f73ceb4e_b538_11ed_bdbb_96000040dfb6row10_col0,#T_f73ceb4e_b538_11ed_bdbb_96000040dfb6row10_col4,#T_f73ceb4e_b538_11ed_bdbb_96000040dfb6row10_col6,#T_f73ceb4e_b538_11ed_bdbb_96000040dfb6row10_col8,#T_f73ceb4e_b538_11ed_bdbb_96000040dfb6row10_col9,#T_f73ceb4e_b538_11ed_bdbb_96000040dfb6row11_col0,#T_f73ceb4e_b538_11ed_bdbb_96000040dfb6row11_col7{\n",
       "            background-color:  #440154;\n",
       "            color:  #f1f1f1;\n",
       "        }#T_f73ceb4e_b538_11ed_bdbb_96000040dfb6row0_col1{\n",
       "            background-color:  #5cc863;\n",
       "            color:  #000000;\n",
       "        }#T_f73ceb4e_b538_11ed_bdbb_96000040dfb6row0_col2,#T_f73ceb4e_b538_11ed_bdbb_96000040dfb6row2_col12{\n",
       "            background-color:  #3d4d8a;\n",
       "            color:  #f1f1f1;\n",
       "        }#T_f73ceb4e_b538_11ed_bdbb_96000040dfb6row0_col3,#T_f73ceb4e_b538_11ed_bdbb_96000040dfb6row4_col12{\n",
       "            background-color:  #433d84;\n",
       "            color:  #f1f1f1;\n",
       "        }#T_f73ceb4e_b538_11ed_bdbb_96000040dfb6row0_col4,#T_f73ceb4e_b538_11ed_bdbb_96000040dfb6row0_col6,#T_f73ceb4e_b538_11ed_bdbb_96000040dfb6row0_col12,#T_f73ceb4e_b538_11ed_bdbb_96000040dfb6row0_col13,#T_f73ceb4e_b538_11ed_bdbb_96000040dfb6row0_col16,#T_f73ceb4e_b538_11ed_bdbb_96000040dfb6row0_col17,#T_f73ceb4e_b538_11ed_bdbb_96000040dfb6row2_col10,#T_f73ceb4e_b538_11ed_bdbb_96000040dfb6row3_col8,#T_f73ceb4e_b538_11ed_bdbb_96000040dfb6row4_col2,#T_f73ceb4e_b538_11ed_bdbb_96000040dfb6row4_col9,#T_f73ceb4e_b538_11ed_bdbb_96000040dfb6row4_col14,#T_f73ceb4e_b538_11ed_bdbb_96000040dfb6row4_col15,#T_f73ceb4e_b538_11ed_bdbb_96000040dfb6row5_col3,#T_f73ceb4e_b538_11ed_bdbb_96000040dfb6row5_col11,#T_f73ceb4e_b538_11ed_bdbb_96000040dfb6row7_col5,#T_f73ceb4e_b538_11ed_bdbb_96000040dfb6row9_col1,#T_f73ceb4e_b538_11ed_bdbb_96000040dfb6row9_col7{\n",
       "            background-color:  #fde725;\n",
       "            color:  #000000;\n",
       "        }#T_f73ceb4e_b538_11ed_bdbb_96000040dfb6row0_col5{\n",
       "            background-color:  #481668;\n",
       "            color:  #f1f1f1;\n",
       "        }#T_f73ceb4e_b538_11ed_bdbb_96000040dfb6row0_col7{\n",
       "            background-color:  #31668e;\n",
       "            color:  #f1f1f1;\n",
       "        }#T_f73ceb4e_b538_11ed_bdbb_96000040dfb6row0_col8{\n",
       "            background-color:  #472d7b;\n",
       "            color:  #f1f1f1;\n",
       "        }#T_f73ceb4e_b538_11ed_bdbb_96000040dfb6row0_col9,#T_f73ceb4e_b538_11ed_bdbb_96000040dfb6row3_col17,#T_f73ceb4e_b538_11ed_bdbb_96000040dfb6row4_col16,#T_f73ceb4e_b538_11ed_bdbb_96000040dfb6row4_col17,#T_f73ceb4e_b538_11ed_bdbb_96000040dfb6row5_col15,#T_f73ceb4e_b538_11ed_bdbb_96000040dfb6row5_col16,#T_f73ceb4e_b538_11ed_bdbb_96000040dfb6row5_col17,#T_f73ceb4e_b538_11ed_bdbb_96000040dfb6row6_col14,#T_f73ceb4e_b538_11ed_bdbb_96000040dfb6row6_col15,#T_f73ceb4e_b538_11ed_bdbb_96000040dfb6row6_col16,#T_f73ceb4e_b538_11ed_bdbb_96000040dfb6row6_col17,#T_f73ceb4e_b538_11ed_bdbb_96000040dfb6row7_col13,#T_f73ceb4e_b538_11ed_bdbb_96000040dfb6row7_col14,#T_f73ceb4e_b538_11ed_bdbb_96000040dfb6row7_col15,#T_f73ceb4e_b538_11ed_bdbb_96000040dfb6row7_col16,#T_f73ceb4e_b538_11ed_bdbb_96000040dfb6row7_col17,#T_f73ceb4e_b538_11ed_bdbb_96000040dfb6row8_col12,#T_f73ceb4e_b538_11ed_bdbb_96000040dfb6row8_col13,#T_f73ceb4e_b538_11ed_bdbb_96000040dfb6row8_col14,#T_f73ceb4e_b538_11ed_bdbb_96000040dfb6row8_col15,#T_f73ceb4e_b538_11ed_bdbb_96000040dfb6row8_col16,#T_f73ceb4e_b538_11ed_bdbb_96000040dfb6row8_col17,#T_f73ceb4e_b538_11ed_bdbb_96000040dfb6row9_col11,#T_f73ceb4e_b538_11ed_bdbb_96000040dfb6row9_col12,#T_f73ceb4e_b538_11ed_bdbb_96000040dfb6row9_col13,#T_f73ceb4e_b538_11ed_bdbb_96000040dfb6row9_col14,#T_f73ceb4e_b538_11ed_bdbb_96000040dfb6row9_col15,#T_f73ceb4e_b538_11ed_bdbb_96000040dfb6row9_col16,#T_f73ceb4e_b538_11ed_bdbb_96000040dfb6row9_col17,#T_f73ceb4e_b538_11ed_bdbb_96000040dfb6row10_col10,#T_f73ceb4e_b538_11ed_bdbb_96000040dfb6row10_col11,#T_f73ceb4e_b538_11ed_bdbb_96000040dfb6row10_col12,#T_f73ceb4e_b538_11ed_bdbb_96000040dfb6row10_col13,#T_f73ceb4e_b538_11ed_bdbb_96000040dfb6row10_col14,#T_f73ceb4e_b538_11ed_bdbb_96000040dfb6row10_col15,#T_f73ceb4e_b538_11ed_bdbb_96000040dfb6row10_col16,#T_f73ceb4e_b538_11ed_bdbb_96000040dfb6row10_col17,#T_f73ceb4e_b538_11ed_bdbb_96000040dfb6row11_col9,#T_f73ceb4e_b538_11ed_bdbb_96000040dfb6row11_col10,#T_f73ceb4e_b538_11ed_bdbb_96000040dfb6row11_col11,#T_f73ceb4e_b538_11ed_bdbb_96000040dfb6row11_col12,#T_f73ceb4e_b538_11ed_bdbb_96000040dfb6row11_col13,#T_f73ceb4e_b538_11ed_bdbb_96000040dfb6row11_col14,#T_f73ceb4e_b538_11ed_bdbb_96000040dfb6row11_col15,#T_f73ceb4e_b538_11ed_bdbb_96000040dfb6row11_col16,#T_f73ceb4e_b538_11ed_bdbb_96000040dfb6row11_col17{\n",
       "            background-color:  #000000;\n",
       "            color:  #f1f1f1;\n",
       "            background-color:  white;\n",
       "        }#T_f73ceb4e_b538_11ed_bdbb_96000040dfb6row0_col10{\n",
       "            background-color:  #4ec36b;\n",
       "            color:  #000000;\n",
       "        }#T_f73ceb4e_b538_11ed_bdbb_96000040dfb6row0_col11{\n",
       "            background-color:  #63cb5f;\n",
       "            color:  #000000;\n",
       "        }#T_f73ceb4e_b538_11ed_bdbb_96000040dfb6row0_col14,#T_f73ceb4e_b538_11ed_bdbb_96000040dfb6row6_col13{\n",
       "            background-color:  #21918c;\n",
       "            color:  #000000;\n",
       "        }#T_f73ceb4e_b538_11ed_bdbb_96000040dfb6row0_col15,#T_f73ceb4e_b538_11ed_bdbb_96000040dfb6row6_col2,#T_f73ceb4e_b538_11ed_bdbb_96000040dfb6row11_col8{\n",
       "            background-color:  #277e8e;\n",
       "            color:  #000000;\n",
       "        }#T_f73ceb4e_b538_11ed_bdbb_96000040dfb6row1_col2{\n",
       "            background-color:  #481d6f;\n",
       "            color:  #f1f1f1;\n",
       "        }#T_f73ceb4e_b538_11ed_bdbb_96000040dfb6row1_col3{\n",
       "            background-color:  #33628d;\n",
       "            color:  #f1f1f1;\n",
       "        }#T_f73ceb4e_b538_11ed_bdbb_96000040dfb6row1_col4,#T_f73ceb4e_b538_11ed_bdbb_96000040dfb6row4_col6{\n",
       "            background-color:  #f4e61e;\n",
       "            color:  #000000;\n",
       "        }#T_f73ceb4e_b538_11ed_bdbb_96000040dfb6row1_col6,#T_f73ceb4e_b538_11ed_bdbb_96000040dfb6row8_col5{\n",
       "            background-color:  #2c738e;\n",
       "            color:  #f1f1f1;\n",
       "        }#T_f73ceb4e_b538_11ed_bdbb_96000040dfb6row1_col7{\n",
       "            background-color:  #26828e;\n",
       "            color:  #000000;\n",
       "        }#T_f73ceb4e_b538_11ed_bdbb_96000040dfb6row1_col8{\n",
       "            background-color:  #470e61;\n",
       "            color:  #f1f1f1;\n",
       "        }#T_f73ceb4e_b538_11ed_bdbb_96000040dfb6row1_col9,#T_f73ceb4e_b538_11ed_bdbb_96000040dfb6row8_col4{\n",
       "            background-color:  #d5e21a;\n",
       "            color:  #000000;\n",
       "        }#T_f73ceb4e_b538_11ed_bdbb_96000040dfb6row1_col11{\n",
       "            background-color:  #89d548;\n",
       "            color:  #000000;\n",
       "        }#T_f73ceb4e_b538_11ed_bdbb_96000040dfb6row1_col12{\n",
       "            background-color:  #463480;\n",
       "            color:  #f1f1f1;\n",
       "        }#T_f73ceb4e_b538_11ed_bdbb_96000040dfb6row1_col13{\n",
       "            background-color:  #2e6e8e;\n",
       "            color:  #f1f1f1;\n",
       "        }#T_f73ceb4e_b538_11ed_bdbb_96000040dfb6row1_col14,#T_f73ceb4e_b538_11ed_bdbb_96000040dfb6row11_col4{\n",
       "            background-color:  #34618d;\n",
       "            color:  #f1f1f1;\n",
       "        }#T_f73ceb4e_b538_11ed_bdbb_96000040dfb6row1_col17{\n",
       "            background-color:  #32648e;\n",
       "            color:  #f1f1f1;\n",
       "        }#T_f73ceb4e_b538_11ed_bdbb_96000040dfb6row1_col18,#T_f73ceb4e_b538_11ed_bdbb_96000040dfb6row2_col18,#T_f73ceb4e_b538_11ed_bdbb_96000040dfb6row3_col18,#T_f73ceb4e_b538_11ed_bdbb_96000040dfb6row4_col18,#T_f73ceb4e_b538_11ed_bdbb_96000040dfb6row5_col18,#T_f73ceb4e_b538_11ed_bdbb_96000040dfb6row6_col18,#T_f73ceb4e_b538_11ed_bdbb_96000040dfb6row7_col18,#T_f73ceb4e_b538_11ed_bdbb_96000040dfb6row8_col18,#T_f73ceb4e_b538_11ed_bdbb_96000040dfb6row9_col18,#T_f73ceb4e_b538_11ed_bdbb_96000040dfb6row10_col18,#T_f73ceb4e_b538_11ed_bdbb_96000040dfb6row11_col18{\n",
       "            background-color:  #440154;\n",
       "            color:  #f1f1f1;\n",
       "            background-color:  white;\n",
       "        }#T_f73ceb4e_b538_11ed_bdbb_96000040dfb6row2_col1{\n",
       "            background-color:  #22a884;\n",
       "            color:  #000000;\n",
       "        }#T_f73ceb4e_b538_11ed_bdbb_96000040dfb6row2_col2,#T_f73ceb4e_b538_11ed_bdbb_96000040dfb6row7_col6{\n",
       "            background-color:  #25848e;\n",
       "            color:  #000000;\n",
       "        }#T_f73ceb4e_b538_11ed_bdbb_96000040dfb6row2_col3{\n",
       "            background-color:  #b0dd2f;\n",
       "            color:  #000000;\n",
       "        }#T_f73ceb4e_b538_11ed_bdbb_96000040dfb6row2_col4,#T_f73ceb4e_b538_11ed_bdbb_96000040dfb6row10_col1{\n",
       "            background-color:  #42be71;\n",
       "            color:  #000000;\n",
       "        }#T_f73ceb4e_b538_11ed_bdbb_96000040dfb6row2_col5{\n",
       "            background-color:  #482173;\n",
       "            color:  #f1f1f1;\n",
       "        }#T_f73ceb4e_b538_11ed_bdbb_96000040dfb6row2_col6{\n",
       "            background-color:  #482374;\n",
       "            color:  #f1f1f1;\n",
       "        }#T_f73ceb4e_b538_11ed_bdbb_96000040dfb6row2_col7,#T_f73ceb4e_b538_11ed_bdbb_96000040dfb6row5_col9{\n",
       "            background-color:  #93d741;\n",
       "            color:  #000000;\n",
       "        }#T_f73ceb4e_b538_11ed_bdbb_96000040dfb6row2_col8{\n",
       "            background-color:  #90d743;\n",
       "            color:  #000000;\n",
       "        }#T_f73ceb4e_b538_11ed_bdbb_96000040dfb6row2_col9{\n",
       "            background-color:  #3b528b;\n",
       "            color:  #f1f1f1;\n",
       "        }#T_f73ceb4e_b538_11ed_bdbb_96000040dfb6row2_col11,#T_f73ceb4e_b538_11ed_bdbb_96000040dfb6row9_col5{\n",
       "            background-color:  #453781;\n",
       "            color:  #f1f1f1;\n",
       "        }#T_f73ceb4e_b538_11ed_bdbb_96000040dfb6row2_col13{\n",
       "            background-color:  #424086;\n",
       "            color:  #f1f1f1;\n",
       "        }#T_f73ceb4e_b538_11ed_bdbb_96000040dfb6row2_col14{\n",
       "            background-color:  #25ac82;\n",
       "            color:  #000000;\n",
       "        }#T_f73ceb4e_b538_11ed_bdbb_96000040dfb6row2_col15{\n",
       "            background-color:  #b8de29;\n",
       "            color:  #000000;\n",
       "        }#T_f73ceb4e_b538_11ed_bdbb_96000040dfb6row2_col16{\n",
       "            background-color:  #481c6e;\n",
       "            color:  #f1f1f1;\n",
       "        }#T_f73ceb4e_b538_11ed_bdbb_96000040dfb6row3_col1{\n",
       "            background-color:  #95d840;\n",
       "            color:  #000000;\n",
       "        }#T_f73ceb4e_b538_11ed_bdbb_96000040dfb6row3_col3{\n",
       "            background-color:  #365c8d;\n",
       "            color:  #f1f1f1;\n",
       "        }#T_f73ceb4e_b538_11ed_bdbb_96000040dfb6row3_col4{\n",
       "            background-color:  #2e6f8e;\n",
       "            color:  #f1f1f1;\n",
       "        }#T_f73ceb4e_b538_11ed_bdbb_96000040dfb6row3_col5{\n",
       "            background-color:  #2d718e;\n",
       "            color:  #f1f1f1;\n",
       "        }#T_f73ceb4e_b538_11ed_bdbb_96000040dfb6row3_col6{\n",
       "            background-color:  #58c765;\n",
       "            color:  #000000;\n",
       "        }#T_f73ceb4e_b538_11ed_bdbb_96000040dfb6row3_col7,#T_f73ceb4e_b538_11ed_bdbb_96000040dfb6row7_col7{\n",
       "            background-color:  #40bd72;\n",
       "            color:  #000000;\n",
       "        }#T_f73ceb4e_b538_11ed_bdbb_96000040dfb6row3_col9{\n",
       "            background-color:  #1fa188;\n",
       "            color:  #000000;\n",
       "        }#T_f73ceb4e_b538_11ed_bdbb_96000040dfb6row3_col10{\n",
       "            background-color:  #277f8e;\n",
       "            color:  #000000;\n",
       "        }#T_f73ceb4e_b538_11ed_bdbb_96000040dfb6row3_col11,#T_f73ceb4e_b538_11ed_bdbb_96000040dfb6row7_col12{\n",
       "            background-color:  #481467;\n",
       "            color:  #f1f1f1;\n",
       "        }#T_f73ceb4e_b538_11ed_bdbb_96000040dfb6row3_col15{\n",
       "            background-color:  #46307e;\n",
       "            color:  #f1f1f1;\n",
       "        }#T_f73ceb4e_b538_11ed_bdbb_96000040dfb6row3_col16{\n",
       "            background-color:  #44bf70;\n",
       "            color:  #000000;\n",
       "        }#T_f73ceb4e_b538_11ed_bdbb_96000040dfb6row4_col1{\n",
       "            background-color:  #37b878;\n",
       "            color:  #000000;\n",
       "        }#T_f73ceb4e_b538_11ed_bdbb_96000040dfb6row4_col3,#T_f73ceb4e_b538_11ed_bdbb_96000040dfb6row8_col1{\n",
       "            background-color:  #d8e219;\n",
       "            color:  #000000;\n",
       "        }#T_f73ceb4e_b538_11ed_bdbb_96000040dfb6row4_col4{\n",
       "            background-color:  #1e9b8a;\n",
       "            color:  #000000;\n",
       "        }#T_f73ceb4e_b538_11ed_bdbb_96000040dfb6row4_col5{\n",
       "            background-color:  #1fa187;\n",
       "            color:  #000000;\n",
       "        }#T_f73ceb4e_b538_11ed_bdbb_96000040dfb6row4_col7,#T_f73ceb4e_b538_11ed_bdbb_96000040dfb6row6_col3,#T_f73ceb4e_b538_11ed_bdbb_96000040dfb6row9_col6{\n",
       "            background-color:  #297a8e;\n",
       "            color:  #000000;\n",
       "        }#T_f73ceb4e_b538_11ed_bdbb_96000040dfb6row4_col8{\n",
       "            background-color:  #22a785;\n",
       "            color:  #000000;\n",
       "        }#T_f73ceb4e_b538_11ed_bdbb_96000040dfb6row4_col10{\n",
       "            background-color:  #46c06f;\n",
       "            color:  #000000;\n",
       "        }#T_f73ceb4e_b538_11ed_bdbb_96000040dfb6row4_col11,#T_f73ceb4e_b538_11ed_bdbb_96000040dfb6row5_col14{\n",
       "            background-color:  #dfe318;\n",
       "            color:  #000000;\n",
       "        }#T_f73ceb4e_b538_11ed_bdbb_96000040dfb6row4_col13{\n",
       "            background-color:  #470d60;\n",
       "            color:  #f1f1f1;\n",
       "        }#T_f73ceb4e_b538_11ed_bdbb_96000040dfb6row5_col1,#T_f73ceb4e_b538_11ed_bdbb_96000040dfb6row8_col9{\n",
       "            background-color:  #1f9a8a;\n",
       "            color:  #000000;\n",
       "        }#T_f73ceb4e_b538_11ed_bdbb_96000040dfb6row5_col2{\n",
       "            background-color:  #24878e;\n",
       "            color:  #000000;\n",
       "        }#T_f73ceb4e_b538_11ed_bdbb_96000040dfb6row5_col4,#T_f73ceb4e_b538_11ed_bdbb_96000040dfb6row7_col11{\n",
       "            background-color:  #30698e;\n",
       "            color:  #f1f1f1;\n",
       "        }#T_f73ceb4e_b538_11ed_bdbb_96000040dfb6row5_col5{\n",
       "            background-color:  #1f958b;\n",
       "            color:  #000000;\n",
       "        }#T_f73ceb4e_b538_11ed_bdbb_96000040dfb6row5_col6,#T_f73ceb4e_b538_11ed_bdbb_96000040dfb6row8_col8{\n",
       "            background-color:  #9dd93b;\n",
       "            color:  #000000;\n",
       "        }#T_f73ceb4e_b538_11ed_bdbb_96000040dfb6row5_col7{\n",
       "            background-color:  #1fa287;\n",
       "            color:  #000000;\n",
       "        }#T_f73ceb4e_b538_11ed_bdbb_96000040dfb6row5_col8{\n",
       "            background-color:  #48186a;\n",
       "            color:  #f1f1f1;\n",
       "        }#T_f73ceb4e_b538_11ed_bdbb_96000040dfb6row5_col10{\n",
       "            background-color:  #aadc32;\n",
       "            color:  #000000;\n",
       "        }#T_f73ceb4e_b538_11ed_bdbb_96000040dfb6row5_col12{\n",
       "            background-color:  #482979;\n",
       "            color:  #f1f1f1;\n",
       "        }#T_f73ceb4e_b538_11ed_bdbb_96000040dfb6row5_col13{\n",
       "            background-color:  #3e4989;\n",
       "            color:  #f1f1f1;\n",
       "        }#T_f73ceb4e_b538_11ed_bdbb_96000040dfb6row6_col1{\n",
       "            background-color:  #2eb37c;\n",
       "            color:  #000000;\n",
       "        }#T_f73ceb4e_b538_11ed_bdbb_96000040dfb6row6_col4{\n",
       "            background-color:  #35b779;\n",
       "            color:  #000000;\n",
       "        }#T_f73ceb4e_b538_11ed_bdbb_96000040dfb6row6_col5,#T_f73ceb4e_b538_11ed_bdbb_96000040dfb6row11_col2{\n",
       "            background-color:  #443983;\n",
       "            color:  #f1f1f1;\n",
       "        }#T_f73ceb4e_b538_11ed_bdbb_96000040dfb6row6_col6{\n",
       "            background-color:  #28ae80;\n",
       "            color:  #000000;\n",
       "        }#T_f73ceb4e_b538_11ed_bdbb_96000040dfb6row6_col7{\n",
       "            background-color:  #3f4788;\n",
       "            color:  #f1f1f1;\n",
       "        }#T_f73ceb4e_b538_11ed_bdbb_96000040dfb6row6_col8,#T_f73ceb4e_b538_11ed_bdbb_96000040dfb6row8_col6{\n",
       "            background-color:  #34608d;\n",
       "            color:  #f1f1f1;\n",
       "        }#T_f73ceb4e_b538_11ed_bdbb_96000040dfb6row6_col9{\n",
       "            background-color:  #c0df25;\n",
       "            color:  #000000;\n",
       "        }#T_f73ceb4e_b538_11ed_bdbb_96000040dfb6row6_col10{\n",
       "            background-color:  #20928c;\n",
       "            color:  #000000;\n",
       "        }#T_f73ceb4e_b538_11ed_bdbb_96000040dfb6row6_col11{\n",
       "            background-color:  #6ccd5a;\n",
       "            color:  #000000;\n",
       "        }#T_f73ceb4e_b538_11ed_bdbb_96000040dfb6row6_col12{\n",
       "            background-color:  #481b6d;\n",
       "            color:  #f1f1f1;\n",
       "        }#T_f73ceb4e_b538_11ed_bdbb_96000040dfb6row7_col1{\n",
       "            background-color:  #ece51b;\n",
       "            color:  #000000;\n",
       "        }#T_f73ceb4e_b538_11ed_bdbb_96000040dfb6row7_col2{\n",
       "            background-color:  #228c8d;\n",
       "            color:  #000000;\n",
       "        }#T_f73ceb4e_b538_11ed_bdbb_96000040dfb6row7_col3{\n",
       "            background-color:  #21a585;\n",
       "            color:  #000000;\n",
       "        }#T_f73ceb4e_b538_11ed_bdbb_96000040dfb6row7_col4{\n",
       "            background-color:  #54c568;\n",
       "            color:  #000000;\n",
       "        }#T_f73ceb4e_b538_11ed_bdbb_96000040dfb6row7_col8{\n",
       "            background-color:  #460b5e;\n",
       "            color:  #f1f1f1;\n",
       "        }#T_f73ceb4e_b538_11ed_bdbb_96000040dfb6row7_col9{\n",
       "            background-color:  #1f978b;\n",
       "            color:  #000000;\n",
       "        }#T_f73ceb4e_b538_11ed_bdbb_96000040dfb6row7_col10{\n",
       "            background-color:  #1f948c;\n",
       "            color:  #000000;\n",
       "        }#T_f73ceb4e_b538_11ed_bdbb_96000040dfb6row8_col2{\n",
       "            background-color:  #cae11f;\n",
       "            color:  #000000;\n",
       "        }#T_f73ceb4e_b538_11ed_bdbb_96000040dfb6row8_col3{\n",
       "            background-color:  #65cb5e;\n",
       "            color:  #000000;\n",
       "        }#T_f73ceb4e_b538_11ed_bdbb_96000040dfb6row8_col7,#T_f73ceb4e_b538_11ed_bdbb_96000040dfb6row10_col2{\n",
       "            background-color:  #1f9e89;\n",
       "            color:  #000000;\n",
       "        }#T_f73ceb4e_b538_11ed_bdbb_96000040dfb6row8_col10{\n",
       "            background-color:  #2ab07f;\n",
       "            color:  #000000;\n",
       "        }#T_f73ceb4e_b538_11ed_bdbb_96000040dfb6row9_col2{\n",
       "            background-color:  #39558c;\n",
       "            color:  #f1f1f1;\n",
       "        }#T_f73ceb4e_b538_11ed_bdbb_96000040dfb6row9_col4{\n",
       "            background-color:  #3e4a89;\n",
       "            color:  #f1f1f1;\n",
       "        }#T_f73ceb4e_b538_11ed_bdbb_96000040dfb6row9_col8{\n",
       "            background-color:  #38b977;\n",
       "            color:  #000000;\n",
       "        }#T_f73ceb4e_b538_11ed_bdbb_96000040dfb6row9_col9{\n",
       "            background-color:  #24aa83;\n",
       "            color:  #000000;\n",
       "        }#T_f73ceb4e_b538_11ed_bdbb_96000040dfb6row9_col10{\n",
       "            background-color:  #2d708e;\n",
       "            color:  #f1f1f1;\n",
       "        }#T_f73ceb4e_b538_11ed_bdbb_96000040dfb6row10_col3{\n",
       "            background-color:  #3f4889;\n",
       "            color:  #f1f1f1;\n",
       "        }#T_f73ceb4e_b538_11ed_bdbb_96000040dfb6row10_col5{\n",
       "            background-color:  #482071;\n",
       "            color:  #f1f1f1;\n",
       "        }#T_f73ceb4e_b538_11ed_bdbb_96000040dfb6row10_col7{\n",
       "            background-color:  #218f8d;\n",
       "            color:  #000000;\n",
       "        }#T_f73ceb4e_b538_11ed_bdbb_96000040dfb6row11_col1{\n",
       "            background-color:  #450559;\n",
       "            color:  #f1f1f1;\n",
       "        }#T_f73ceb4e_b538_11ed_bdbb_96000040dfb6row11_col3{\n",
       "            background-color:  #6ece58;\n",
       "            color:  #000000;\n",
       "        }#T_f73ceb4e_b538_11ed_bdbb_96000040dfb6row11_col5{\n",
       "            background-color:  #424186;\n",
       "            color:  #f1f1f1;\n",
       "        }#T_f73ceb4e_b538_11ed_bdbb_96000040dfb6row11_col6{\n",
       "            background-color:  #482878;\n",
       "            color:  #f1f1f1;\n",
       "        }</style><table id=\"T_f73ceb4e_b538_11ed_bdbb_96000040dfb6\" ><caption>Retention by cohort</caption><thead>    <tr>        <th class=\"index_name level0\" >diff</th>        <th class=\"col_heading level0 col0\" >0</th>        <th class=\"col_heading level0 col1\" >1</th>        <th class=\"col_heading level0 col2\" >2</th>        <th class=\"col_heading level0 col3\" >3</th>        <th class=\"col_heading level0 col4\" >4</th>        <th class=\"col_heading level0 col5\" >5</th>        <th class=\"col_heading level0 col6\" >6</th>        <th class=\"col_heading level0 col7\" >7</th>        <th class=\"col_heading level0 col8\" >8</th>        <th class=\"col_heading level0 col9\" >9</th>        <th class=\"col_heading level0 col10\" >10</th>        <th class=\"col_heading level0 col11\" >11</th>        <th class=\"col_heading level0 col12\" >12</th>        <th class=\"col_heading level0 col13\" >13</th>        <th class=\"col_heading level0 col14\" >14</th>        <th class=\"col_heading level0 col15\" >15</th>        <th class=\"col_heading level0 col16\" >16</th>        <th class=\"col_heading level0 col17\" >17</th>        <th class=\"col_heading level0 col18\" >19</th>    </tr>    <tr>        <th class=\"index_name level0\" >first_purchase</th>        <th class=\"blank\" ></th>        <th class=\"blank\" ></th>        <th class=\"blank\" ></th>        <th class=\"blank\" ></th>        <th class=\"blank\" ></th>        <th class=\"blank\" ></th>        <th class=\"blank\" ></th>        <th class=\"blank\" ></th>        <th class=\"blank\" ></th>        <th class=\"blank\" ></th>        <th class=\"blank\" ></th>        <th class=\"blank\" ></th>        <th class=\"blank\" ></th>        <th class=\"blank\" ></th>        <th class=\"blank\" ></th>        <th class=\"blank\" ></th>        <th class=\"blank\" ></th>        <th class=\"blank\" ></th>        <th class=\"blank\" ></th>    </tr></thead><tbody>\n",
       "                <tr>\n",
       "                        <th id=\"T_f73ceb4e_b538_11ed_bdbb_96000040dfb6level0_row0\" class=\"row_heading level0 row0\" >2017-01</th>\n",
       "                        <td id=\"T_f73ceb4e_b538_11ed_bdbb_96000040dfb6row0_col0\" class=\"data row0 col0\" >100.00%</td>\n",
       "                        <td id=\"T_f73ceb4e_b538_11ed_bdbb_96000040dfb6row0_col1\" class=\"data row0 col1\" >0.59%</td>\n",
       "                        <td id=\"T_f73ceb4e_b538_11ed_bdbb_96000040dfb6row0_col2\" class=\"data row0 col2\" >0.29%</td>\n",
       "                        <td id=\"T_f73ceb4e_b538_11ed_bdbb_96000040dfb6row0_col3\" class=\"data row0 col3\" >0.15%</td>\n",
       "                        <td id=\"T_f73ceb4e_b538_11ed_bdbb_96000040dfb6row0_col4\" class=\"data row0 col4\" >0.44%</td>\n",
       "                        <td id=\"T_f73ceb4e_b538_11ed_bdbb_96000040dfb6row0_col5\" class=\"data row0 col5\" >0.15%</td>\n",
       "                        <td id=\"T_f73ceb4e_b538_11ed_bdbb_96000040dfb6row0_col6\" class=\"data row0 col6\" >0.44%</td>\n",
       "                        <td id=\"T_f73ceb4e_b538_11ed_bdbb_96000040dfb6row0_col7\" class=\"data row0 col7\" >0.15%</td>\n",
       "                        <td id=\"T_f73ceb4e_b538_11ed_bdbb_96000040dfb6row0_col8\" class=\"data row0 col8\" >0.15%</td>\n",
       "                        <td id=\"T_f73ceb4e_b538_11ed_bdbb_96000040dfb6row0_col9\" class=\"data row0 col9\" ></td>\n",
       "                        <td id=\"T_f73ceb4e_b538_11ed_bdbb_96000040dfb6row0_col10\" class=\"data row0 col10\" >0.29%</td>\n",
       "                        <td id=\"T_f73ceb4e_b538_11ed_bdbb_96000040dfb6row0_col11\" class=\"data row0 col11\" >0.29%</td>\n",
       "                        <td id=\"T_f73ceb4e_b538_11ed_bdbb_96000040dfb6row0_col12\" class=\"data row0 col12\" >0.73%</td>\n",
       "                        <td id=\"T_f73ceb4e_b538_11ed_bdbb_96000040dfb6row0_col13\" class=\"data row0 col13\" >0.44%</td>\n",
       "                        <td id=\"T_f73ceb4e_b538_11ed_bdbb_96000040dfb6row0_col14\" class=\"data row0 col14\" >0.15%</td>\n",
       "                        <td id=\"T_f73ceb4e_b538_11ed_bdbb_96000040dfb6row0_col15\" class=\"data row0 col15\" >0.15%</td>\n",
       "                        <td id=\"T_f73ceb4e_b538_11ed_bdbb_96000040dfb6row0_col16\" class=\"data row0 col16\" >0.29%</td>\n",
       "                        <td id=\"T_f73ceb4e_b538_11ed_bdbb_96000040dfb6row0_col17\" class=\"data row0 col17\" >0.44%</td>\n",
       "                        <td id=\"T_f73ceb4e_b538_11ed_bdbb_96000040dfb6row0_col18\" class=\"data row0 col18\" >0.15%</td>\n",
       "            </tr>\n",
       "            <tr>\n",
       "                        <th id=\"T_f73ceb4e_b538_11ed_bdbb_96000040dfb6level0_row1\" class=\"row_heading level0 row1\" >2017-02</th>\n",
       "                        <td id=\"T_f73ceb4e_b538_11ed_bdbb_96000040dfb6row1_col0\" class=\"data row1 col0\" >100.00%</td>\n",
       "                        <td id=\"T_f73ceb4e_b538_11ed_bdbb_96000040dfb6row1_col1\" class=\"data row1 col1\" >0.25%</td>\n",
       "                        <td id=\"T_f73ceb4e_b538_11ed_bdbb_96000040dfb6row1_col2\" class=\"data row1 col2\" >0.25%</td>\n",
       "                        <td id=\"T_f73ceb4e_b538_11ed_bdbb_96000040dfb6row1_col3\" class=\"data row1 col3\" >0.19%</td>\n",
       "                        <td id=\"T_f73ceb4e_b538_11ed_bdbb_96000040dfb6row1_col4\" class=\"data row1 col4\" >0.43%</td>\n",
       "                        <td id=\"T_f73ceb4e_b538_11ed_bdbb_96000040dfb6row1_col5\" class=\"data row1 col5\" >0.12%</td>\n",
       "                        <td id=\"T_f73ceb4e_b538_11ed_bdbb_96000040dfb6row1_col6\" class=\"data row1 col6\" >0.25%</td>\n",
       "                        <td id=\"T_f73ceb4e_b538_11ed_bdbb_96000040dfb6row1_col7\" class=\"data row1 col7\" >0.19%</td>\n",
       "                        <td id=\"T_f73ceb4e_b538_11ed_bdbb_96000040dfb6row1_col8\" class=\"data row1 col8\" >0.12%</td>\n",
       "                        <td id=\"T_f73ceb4e_b538_11ed_bdbb_96000040dfb6row1_col9\" class=\"data row1 col9\" >0.25%</td>\n",
       "                        <td id=\"T_f73ceb4e_b538_11ed_bdbb_96000040dfb6row1_col10\" class=\"data row1 col10\" >0.12%</td>\n",
       "                        <td id=\"T_f73ceb4e_b538_11ed_bdbb_96000040dfb6row1_col11\" class=\"data row1 col11\" >0.31%</td>\n",
       "                        <td id=\"T_f73ceb4e_b538_11ed_bdbb_96000040dfb6row1_col12\" class=\"data row1 col12\" >0.19%</td>\n",
       "                        <td id=\"T_f73ceb4e_b538_11ed_bdbb_96000040dfb6row1_col13\" class=\"data row1 col13\" >0.19%</td>\n",
       "                        <td id=\"T_f73ceb4e_b538_11ed_bdbb_96000040dfb6row1_col14\" class=\"data row1 col14\" >0.12%</td>\n",
       "                        <td id=\"T_f73ceb4e_b538_11ed_bdbb_96000040dfb6row1_col15\" class=\"data row1 col15\" >0.06%</td>\n",
       "                        <td id=\"T_f73ceb4e_b538_11ed_bdbb_96000040dfb6row1_col16\" class=\"data row1 col16\" >0.06%</td>\n",
       "                        <td id=\"T_f73ceb4e_b538_11ed_bdbb_96000040dfb6row1_col17\" class=\"data row1 col17\" >0.25%</td>\n",
       "                        <td id=\"T_f73ceb4e_b538_11ed_bdbb_96000040dfb6row1_col18\" class=\"data row1 col18\" ></td>\n",
       "            </tr>\n",
       "            <tr>\n",
       "                        <th id=\"T_f73ceb4e_b538_11ed_bdbb_96000040dfb6level0_row2\" class=\"row_heading level0 row2\" >2017-03</th>\n",
       "                        <td id=\"T_f73ceb4e_b538_11ed_bdbb_96000040dfb6row2_col0\" class=\"data row2 col0\" >100.00%</td>\n",
       "                        <td id=\"T_f73ceb4e_b538_11ed_bdbb_96000040dfb6row2_col1\" class=\"data row2 col1\" >0.52%</td>\n",
       "                        <td id=\"T_f73ceb4e_b538_11ed_bdbb_96000040dfb6row2_col2\" class=\"data row2 col2\" >0.36%</td>\n",
       "                        <td id=\"T_f73ceb4e_b538_11ed_bdbb_96000040dfb6row2_col3\" class=\"data row2 col3\" >0.36%</td>\n",
       "                        <td id=\"T_f73ceb4e_b538_11ed_bdbb_96000040dfb6row2_col4\" class=\"data row2 col4\" >0.36%</td>\n",
       "                        <td id=\"T_f73ceb4e_b538_11ed_bdbb_96000040dfb6row2_col5\" class=\"data row2 col5\" >0.16%</td>\n",
       "                        <td id=\"T_f73ceb4e_b538_11ed_bdbb_96000040dfb6row2_col6\" class=\"data row2 col6\" >0.16%</td>\n",
       "                        <td id=\"T_f73ceb4e_b538_11ed_bdbb_96000040dfb6row2_col7\" class=\"data row2 col7\" >0.32%</td>\n",
       "                        <td id=\"T_f73ceb4e_b538_11ed_bdbb_96000040dfb6row2_col8\" class=\"data row2 col8\" >0.32%</td>\n",
       "                        <td id=\"T_f73ceb4e_b538_11ed_bdbb_96000040dfb6row2_col9\" class=\"data row2 col9\" >0.12%</td>\n",
       "                        <td id=\"T_f73ceb4e_b538_11ed_bdbb_96000040dfb6row2_col10\" class=\"data row2 col10\" >0.36%</td>\n",
       "                        <td id=\"T_f73ceb4e_b538_11ed_bdbb_96000040dfb6row2_col11\" class=\"data row2 col11\" >0.12%</td>\n",
       "                        <td id=\"T_f73ceb4e_b538_11ed_bdbb_96000040dfb6row2_col12\" class=\"data row2 col12\" >0.24%</td>\n",
       "                        <td id=\"T_f73ceb4e_b538_11ed_bdbb_96000040dfb6row2_col13\" class=\"data row2 col13\" >0.12%</td>\n",
       "                        <td id=\"T_f73ceb4e_b538_11ed_bdbb_96000040dfb6row2_col14\" class=\"data row2 col14\" >0.16%</td>\n",
       "                        <td id=\"T_f73ceb4e_b538_11ed_bdbb_96000040dfb6row2_col15\" class=\"data row2 col15\" >0.24%</td>\n",
       "                        <td id=\"T_f73ceb4e_b538_11ed_bdbb_96000040dfb6row2_col16\" class=\"data row2 col16\" >0.08%</td>\n",
       "                        <td id=\"T_f73ceb4e_b538_11ed_bdbb_96000040dfb6row2_col17\" class=\"data row2 col17\" >0.16%</td>\n",
       "                        <td id=\"T_f73ceb4e_b538_11ed_bdbb_96000040dfb6row2_col18\" class=\"data row2 col18\" ></td>\n",
       "            </tr>\n",
       "            <tr>\n",
       "                        <th id=\"T_f73ceb4e_b538_11ed_bdbb_96000040dfb6level0_row3\" class=\"row_heading level0 row3\" >2017-04</th>\n",
       "                        <td id=\"T_f73ceb4e_b538_11ed_bdbb_96000040dfb6row3_col0\" class=\"data row3 col0\" >100.00%</td>\n",
       "                        <td id=\"T_f73ceb4e_b538_11ed_bdbb_96000040dfb6row3_col1\" class=\"data row3 col1\" >0.63%</td>\n",
       "                        <td id=\"T_f73ceb4e_b538_11ed_bdbb_96000040dfb6row3_col2\" class=\"data row3 col2\" >0.22%</td>\n",
       "                        <td id=\"T_f73ceb4e_b538_11ed_bdbb_96000040dfb6row3_col3\" class=\"data row3 col3\" >0.18%</td>\n",
       "                        <td id=\"T_f73ceb4e_b538_11ed_bdbb_96000040dfb6row3_col4\" class=\"data row3 col4\" >0.27%</td>\n",
       "                        <td id=\"T_f73ceb4e_b538_11ed_bdbb_96000040dfb6row3_col5\" class=\"data row3 col5\" >0.27%</td>\n",
       "                        <td id=\"T_f73ceb4e_b538_11ed_bdbb_96000040dfb6row3_col6\" class=\"data row3 col6\" >0.36%</td>\n",
       "                        <td id=\"T_f73ceb4e_b538_11ed_bdbb_96000040dfb6row3_col7\" class=\"data row3 col7\" >0.27%</td>\n",
       "                        <td id=\"T_f73ceb4e_b538_11ed_bdbb_96000040dfb6row3_col8\" class=\"data row3 col8\" >0.36%</td>\n",
       "                        <td id=\"T_f73ceb4e_b538_11ed_bdbb_96000040dfb6row3_col9\" class=\"data row3 col9\" >0.18%</td>\n",
       "                        <td id=\"T_f73ceb4e_b538_11ed_bdbb_96000040dfb6row3_col10\" class=\"data row3 col10\" >0.22%</td>\n",
       "                        <td id=\"T_f73ceb4e_b538_11ed_bdbb_96000040dfb6row3_col11\" class=\"data row3 col11\" >0.09%</td>\n",
       "                        <td id=\"T_f73ceb4e_b538_11ed_bdbb_96000040dfb6row3_col12\" class=\"data row3 col12\" >0.09%</td>\n",
       "                        <td id=\"T_f73ceb4e_b538_11ed_bdbb_96000040dfb6row3_col13\" class=\"data row3 col13\" >0.04%</td>\n",
       "                        <td id=\"T_f73ceb4e_b538_11ed_bdbb_96000040dfb6row3_col14\" class=\"data row3 col14\" >0.09%</td>\n",
       "                        <td id=\"T_f73ceb4e_b538_11ed_bdbb_96000040dfb6row3_col15\" class=\"data row3 col15\" >0.09%</td>\n",
       "                        <td id=\"T_f73ceb4e_b538_11ed_bdbb_96000040dfb6row3_col16\" class=\"data row3 col16\" >0.22%</td>\n",
       "                        <td id=\"T_f73ceb4e_b538_11ed_bdbb_96000040dfb6row3_col17\" class=\"data row3 col17\" ></td>\n",
       "                        <td id=\"T_f73ceb4e_b538_11ed_bdbb_96000040dfb6row3_col18\" class=\"data row3 col18\" ></td>\n",
       "            </tr>\n",
       "            <tr>\n",
       "                        <th id=\"T_f73ceb4e_b538_11ed_bdbb_96000040dfb6level0_row4\" class=\"row_heading level0 row4\" >2017-05</th>\n",
       "                        <td id=\"T_f73ceb4e_b538_11ed_bdbb_96000040dfb6row4_col0\" class=\"data row4 col0\" >100.00%</td>\n",
       "                        <td id=\"T_f73ceb4e_b538_11ed_bdbb_96000040dfb6row4_col1\" class=\"data row4 col1\" >0.55%</td>\n",
       "                        <td id=\"T_f73ceb4e_b538_11ed_bdbb_96000040dfb6row4_col2\" class=\"data row4 col2\" >0.52%</td>\n",
       "                        <td id=\"T_f73ceb4e_b538_11ed_bdbb_96000040dfb6row4_col3\" class=\"data row4 col3\" >0.38%</td>\n",
       "                        <td id=\"T_f73ceb4e_b538_11ed_bdbb_96000040dfb6row4_col4\" class=\"data row4 col4\" >0.32%</td>\n",
       "                        <td id=\"T_f73ceb4e_b538_11ed_bdbb_96000040dfb6row4_col5\" class=\"data row4 col5\" >0.35%</td>\n",
       "                        <td id=\"T_f73ceb4e_b538_11ed_bdbb_96000040dfb6row4_col6\" class=\"data row4 col6\" >0.43%</td>\n",
       "                        <td id=\"T_f73ceb4e_b538_11ed_bdbb_96000040dfb6row4_col7\" class=\"data row4 col7\" >0.17%</td>\n",
       "                        <td id=\"T_f73ceb4e_b538_11ed_bdbb_96000040dfb6row4_col8\" class=\"data row4 col8\" >0.26%</td>\n",
       "                        <td id=\"T_f73ceb4e_b538_11ed_bdbb_96000040dfb6row4_col9\" class=\"data row4 col9\" >0.26%</td>\n",
       "                        <td id=\"T_f73ceb4e_b538_11ed_bdbb_96000040dfb6row4_col10\" class=\"data row4 col10\" >0.29%</td>\n",
       "                        <td id=\"T_f73ceb4e_b538_11ed_bdbb_96000040dfb6row4_col11\" class=\"data row4 col11\" >0.35%</td>\n",
       "                        <td id=\"T_f73ceb4e_b538_11ed_bdbb_96000040dfb6row4_col12\" class=\"data row4 col12\" >0.20%</td>\n",
       "                        <td id=\"T_f73ceb4e_b538_11ed_bdbb_96000040dfb6row4_col13\" class=\"data row4 col13\" >0.06%</td>\n",
       "                        <td id=\"T_f73ceb4e_b538_11ed_bdbb_96000040dfb6row4_col14\" class=\"data row4 col14\" >0.20%</td>\n",
       "                        <td id=\"T_f73ceb4e_b538_11ed_bdbb_96000040dfb6row4_col15\" class=\"data row4 col15\" >0.26%</td>\n",
       "                        <td id=\"T_f73ceb4e_b538_11ed_bdbb_96000040dfb6row4_col16\" class=\"data row4 col16\" ></td>\n",
       "                        <td id=\"T_f73ceb4e_b538_11ed_bdbb_96000040dfb6row4_col17\" class=\"data row4 col17\" ></td>\n",
       "                        <td id=\"T_f73ceb4e_b538_11ed_bdbb_96000040dfb6row4_col18\" class=\"data row4 col18\" ></td>\n",
       "            </tr>\n",
       "            <tr>\n",
       "                        <th id=\"T_f73ceb4e_b538_11ed_bdbb_96000040dfb6level0_row5\" class=\"row_heading level0 row5\" >2017-06</th>\n",
       "                        <td id=\"T_f73ceb4e_b538_11ed_bdbb_96000040dfb6row5_col0\" class=\"data row5 col0\" >100.00%</td>\n",
       "                        <td id=\"T_f73ceb4e_b538_11ed_bdbb_96000040dfb6row5_col1\" class=\"data row5 col1\" >0.49%</td>\n",
       "                        <td id=\"T_f73ceb4e_b538_11ed_bdbb_96000040dfb6row5_col2\" class=\"data row5 col2\" >0.36%</td>\n",
       "                        <td id=\"T_f73ceb4e_b538_11ed_bdbb_96000040dfb6row5_col3\" class=\"data row5 col3\" >0.39%</td>\n",
       "                        <td id=\"T_f73ceb4e_b538_11ed_bdbb_96000040dfb6row5_col4\" class=\"data row5 col4\" >0.26%</td>\n",
       "                        <td id=\"T_f73ceb4e_b538_11ed_bdbb_96000040dfb6row5_col5\" class=\"data row5 col5\" >0.33%</td>\n",
       "                        <td id=\"T_f73ceb4e_b538_11ed_bdbb_96000040dfb6row5_col6\" class=\"data row5 col6\" >0.39%</td>\n",
       "                        <td id=\"T_f73ceb4e_b538_11ed_bdbb_96000040dfb6row5_col7\" class=\"data row5 col7\" >0.23%</td>\n",
       "                        <td id=\"T_f73ceb4e_b538_11ed_bdbb_96000040dfb6row5_col8\" class=\"data row5 col8\" >0.13%</td>\n",
       "                        <td id=\"T_f73ceb4e_b538_11ed_bdbb_96000040dfb6row5_col9\" class=\"data row5 col9\" >0.23%</td>\n",
       "                        <td id=\"T_f73ceb4e_b538_11ed_bdbb_96000040dfb6row5_col10\" class=\"data row5 col10\" >0.33%</td>\n",
       "                        <td id=\"T_f73ceb4e_b538_11ed_bdbb_96000040dfb6row5_col11\" class=\"data row5 col11\" >0.36%</td>\n",
       "                        <td id=\"T_f73ceb4e_b538_11ed_bdbb_96000040dfb6row5_col12\" class=\"data row5 col12\" >0.16%</td>\n",
       "                        <td id=\"T_f73ceb4e_b538_11ed_bdbb_96000040dfb6row5_col13\" class=\"data row5 col13\" >0.13%</td>\n",
       "                        <td id=\"T_f73ceb4e_b538_11ed_bdbb_96000040dfb6row5_col14\" class=\"data row5 col14\" >0.20%</td>\n",
       "                        <td id=\"T_f73ceb4e_b538_11ed_bdbb_96000040dfb6row5_col15\" class=\"data row5 col15\" ></td>\n",
       "                        <td id=\"T_f73ceb4e_b538_11ed_bdbb_96000040dfb6row5_col16\" class=\"data row5 col16\" ></td>\n",
       "                        <td id=\"T_f73ceb4e_b538_11ed_bdbb_96000040dfb6row5_col17\" class=\"data row5 col17\" ></td>\n",
       "                        <td id=\"T_f73ceb4e_b538_11ed_bdbb_96000040dfb6row5_col18\" class=\"data row5 col18\" ></td>\n",
       "            </tr>\n",
       "            <tr>\n",
       "                        <th id=\"T_f73ceb4e_b538_11ed_bdbb_96000040dfb6level0_row6\" class=\"row_heading level0 row6\" >2017-07</th>\n",
       "                        <td id=\"T_f73ceb4e_b538_11ed_bdbb_96000040dfb6row6_col0\" class=\"data row6 col0\" >100.00%</td>\n",
       "                        <td id=\"T_f73ceb4e_b538_11ed_bdbb_96000040dfb6row6_col1\" class=\"data row6 col1\" >0.54%</td>\n",
       "                        <td id=\"T_f73ceb4e_b538_11ed_bdbb_96000040dfb6row6_col2\" class=\"data row6 col2\" >0.35%</td>\n",
       "                        <td id=\"T_f73ceb4e_b538_11ed_bdbb_96000040dfb6row6_col3\" class=\"data row6 col3\" >0.22%</td>\n",
       "                        <td id=\"T_f73ceb4e_b538_11ed_bdbb_96000040dfb6row6_col4\" class=\"data row6 col4\" >0.35%</td>\n",
       "                        <td id=\"T_f73ceb4e_b538_11ed_bdbb_96000040dfb6row6_col5\" class=\"data row6 col5\" >0.19%</td>\n",
       "                        <td id=\"T_f73ceb4e_b538_11ed_bdbb_96000040dfb6row6_col6\" class=\"data row6 col6\" >0.32%</td>\n",
       "                        <td id=\"T_f73ceb4e_b538_11ed_bdbb_96000040dfb6row6_col7\" class=\"data row6 col7\" >0.11%</td>\n",
       "                        <td id=\"T_f73ceb4e_b538_11ed_bdbb_96000040dfb6row6_col8\" class=\"data row6 col8\" >0.19%</td>\n",
       "                        <td id=\"T_f73ceb4e_b538_11ed_bdbb_96000040dfb6row6_col9\" class=\"data row6 col9\" >0.24%</td>\n",
       "                        <td id=\"T_f73ceb4e_b538_11ed_bdbb_96000040dfb6row6_col10\" class=\"data row6 col10\" >0.24%</td>\n",
       "                        <td id=\"T_f73ceb4e_b538_11ed_bdbb_96000040dfb6row6_col11\" class=\"data row6 col11\" >0.30%</td>\n",
       "                        <td id=\"T_f73ceb4e_b538_11ed_bdbb_96000040dfb6row6_col12\" class=\"data row6 col12\" >0.13%</td>\n",
       "                        <td id=\"T_f73ceb4e_b538_11ed_bdbb_96000040dfb6row6_col13\" class=\"data row6 col13\" >0.24%</td>\n",
       "                        <td id=\"T_f73ceb4e_b538_11ed_bdbb_96000040dfb6row6_col14\" class=\"data row6 col14\" ></td>\n",
       "                        <td id=\"T_f73ceb4e_b538_11ed_bdbb_96000040dfb6row6_col15\" class=\"data row6 col15\" ></td>\n",
       "                        <td id=\"T_f73ceb4e_b538_11ed_bdbb_96000040dfb6row6_col16\" class=\"data row6 col16\" ></td>\n",
       "                        <td id=\"T_f73ceb4e_b538_11ed_bdbb_96000040dfb6row6_col17\" class=\"data row6 col17\" ></td>\n",
       "                        <td id=\"T_f73ceb4e_b538_11ed_bdbb_96000040dfb6row6_col18\" class=\"data row6 col18\" ></td>\n",
       "            </tr>\n",
       "            <tr>\n",
       "                        <th id=\"T_f73ceb4e_b538_11ed_bdbb_96000040dfb6level0_row7\" class=\"row_heading level0 row7\" >2017-08</th>\n",
       "                        <td id=\"T_f73ceb4e_b538_11ed_bdbb_96000040dfb6row7_col0\" class=\"data row7 col0\" >100.00%</td>\n",
       "                        <td id=\"T_f73ceb4e_b538_11ed_bdbb_96000040dfb6row7_col1\" class=\"data row7 col1\" >0.69%</td>\n",
       "                        <td id=\"T_f73ceb4e_b538_11ed_bdbb_96000040dfb6row7_col2\" class=\"data row7 col2\" >0.37%</td>\n",
       "                        <td id=\"T_f73ceb4e_b538_11ed_bdbb_96000040dfb6row7_col3\" class=\"data row7 col3\" >0.27%</td>\n",
       "                        <td id=\"T_f73ceb4e_b538_11ed_bdbb_96000040dfb6row7_col4\" class=\"data row7 col4\" >0.37%</td>\n",
       "                        <td id=\"T_f73ceb4e_b538_11ed_bdbb_96000040dfb6row7_col5\" class=\"data row7 col5\" >0.51%</td>\n",
       "                        <td id=\"T_f73ceb4e_b538_11ed_bdbb_96000040dfb6row7_col6\" class=\"data row7 col6\" >0.27%</td>\n",
       "                        <td id=\"T_f73ceb4e_b538_11ed_bdbb_96000040dfb6row7_col7\" class=\"data row7 col7\" >0.27%</td>\n",
       "                        <td id=\"T_f73ceb4e_b538_11ed_bdbb_96000040dfb6row7_col8\" class=\"data row7 col8\" >0.12%</td>\n",
       "                        <td id=\"T_f73ceb4e_b538_11ed_bdbb_96000040dfb6row7_col9\" class=\"data row7 col9\" >0.17%</td>\n",
       "                        <td id=\"T_f73ceb4e_b538_11ed_bdbb_96000040dfb6row7_col10\" class=\"data row7 col10\" >0.25%</td>\n",
       "                        <td id=\"T_f73ceb4e_b538_11ed_bdbb_96000040dfb6row7_col11\" class=\"data row7 col11\" >0.17%</td>\n",
       "                        <td id=\"T_f73ceb4e_b538_11ed_bdbb_96000040dfb6row7_col12\" class=\"data row7 col12\" >0.12%</td>\n",
       "                        <td id=\"T_f73ceb4e_b538_11ed_bdbb_96000040dfb6row7_col13\" class=\"data row7 col13\" ></td>\n",
       "                        <td id=\"T_f73ceb4e_b538_11ed_bdbb_96000040dfb6row7_col14\" class=\"data row7 col14\" ></td>\n",
       "                        <td id=\"T_f73ceb4e_b538_11ed_bdbb_96000040dfb6row7_col15\" class=\"data row7 col15\" ></td>\n",
       "                        <td id=\"T_f73ceb4e_b538_11ed_bdbb_96000040dfb6row7_col16\" class=\"data row7 col16\" ></td>\n",
       "                        <td id=\"T_f73ceb4e_b538_11ed_bdbb_96000040dfb6row7_col17\" class=\"data row7 col17\" ></td>\n",
       "                        <td id=\"T_f73ceb4e_b538_11ed_bdbb_96000040dfb6row7_col18\" class=\"data row7 col18\" ></td>\n",
       "            </tr>\n",
       "            <tr>\n",
       "                        <th id=\"T_f73ceb4e_b538_11ed_bdbb_96000040dfb6level0_row8\" class=\"row_heading level0 row8\" >2017-09</th>\n",
       "                        <td id=\"T_f73ceb4e_b538_11ed_bdbb_96000040dfb6row8_col0\" class=\"data row8 col0\" >100.00%</td>\n",
       "                        <td id=\"T_f73ceb4e_b538_11ed_bdbb_96000040dfb6row8_col1\" class=\"data row8 col1\" >0.67%</td>\n",
       "                        <td id=\"T_f73ceb4e_b538_11ed_bdbb_96000040dfb6row8_col2\" class=\"data row8 col2\" >0.50%</td>\n",
       "                        <td id=\"T_f73ceb4e_b538_11ed_bdbb_96000040dfb6row8_col3\" class=\"data row8 col3\" >0.32%</td>\n",
       "                        <td id=\"T_f73ceb4e_b538_11ed_bdbb_96000040dfb6row8_col4\" class=\"data row8 col4\" >0.42%</td>\n",
       "                        <td id=\"T_f73ceb4e_b538_11ed_bdbb_96000040dfb6row8_col5\" class=\"data row8 col5\" >0.27%</td>\n",
       "                        <td id=\"T_f73ceb4e_b538_11ed_bdbb_96000040dfb6row8_col6\" class=\"data row8 col6\" >0.22%</td>\n",
       "                        <td id=\"T_f73ceb4e_b538_11ed_bdbb_96000040dfb6row8_col7\" class=\"data row8 col7\" >0.22%</td>\n",
       "                        <td id=\"T_f73ceb4e_b538_11ed_bdbb_96000040dfb6row8_col8\" class=\"data row8 col8\" >0.32%</td>\n",
       "                        <td id=\"T_f73ceb4e_b538_11ed_bdbb_96000040dfb6row8_col9\" class=\"data row8 col9\" >0.17%</td>\n",
       "                        <td id=\"T_f73ceb4e_b538_11ed_bdbb_96000040dfb6row8_col10\" class=\"data row8 col10\" >0.27%</td>\n",
       "                        <td id=\"T_f73ceb4e_b538_11ed_bdbb_96000040dfb6row8_col11\" class=\"data row8 col11\" >0.07%</td>\n",
       "                        <td id=\"T_f73ceb4e_b538_11ed_bdbb_96000040dfb6row8_col12\" class=\"data row8 col12\" ></td>\n",
       "                        <td id=\"T_f73ceb4e_b538_11ed_bdbb_96000040dfb6row8_col13\" class=\"data row8 col13\" ></td>\n",
       "                        <td id=\"T_f73ceb4e_b538_11ed_bdbb_96000040dfb6row8_col14\" class=\"data row8 col14\" ></td>\n",
       "                        <td id=\"T_f73ceb4e_b538_11ed_bdbb_96000040dfb6row8_col15\" class=\"data row8 col15\" ></td>\n",
       "                        <td id=\"T_f73ceb4e_b538_11ed_bdbb_96000040dfb6row8_col16\" class=\"data row8 col16\" ></td>\n",
       "                        <td id=\"T_f73ceb4e_b538_11ed_bdbb_96000040dfb6row8_col17\" class=\"data row8 col17\" ></td>\n",
       "                        <td id=\"T_f73ceb4e_b538_11ed_bdbb_96000040dfb6row8_col18\" class=\"data row8 col18\" ></td>\n",
       "            </tr>\n",
       "            <tr>\n",
       "                        <th id=\"T_f73ceb4e_b538_11ed_bdbb_96000040dfb6level0_row9\" class=\"row_heading level0 row9\" >2017-10</th>\n",
       "                        <td id=\"T_f73ceb4e_b538_11ed_bdbb_96000040dfb6row9_col0\" class=\"data row9 col0\" >100.00%</td>\n",
       "                        <td id=\"T_f73ceb4e_b538_11ed_bdbb_96000040dfb6row9_col1\" class=\"data row9 col1\" >0.70%</td>\n",
       "                        <td id=\"T_f73ceb4e_b538_11ed_bdbb_96000040dfb6row9_col2\" class=\"data row9 col2\" >0.30%</td>\n",
       "                        <td id=\"T_f73ceb4e_b538_11ed_bdbb_96000040dfb6row9_col3\" class=\"data row9 col3\" >0.09%</td>\n",
       "                        <td id=\"T_f73ceb4e_b538_11ed_bdbb_96000040dfb6row9_col4\" class=\"data row9 col4\" >0.23%</td>\n",
       "                        <td id=\"T_f73ceb4e_b538_11ed_bdbb_96000040dfb6row9_col5\" class=\"data row9 col5\" >0.19%</td>\n",
       "                        <td id=\"T_f73ceb4e_b538_11ed_bdbb_96000040dfb6row9_col6\" class=\"data row9 col6\" >0.26%</td>\n",
       "                        <td id=\"T_f73ceb4e_b538_11ed_bdbb_96000040dfb6row9_col7\" class=\"data row9 col7\" >0.37%</td>\n",
       "                        <td id=\"T_f73ceb4e_b538_11ed_bdbb_96000040dfb6row9_col8\" class=\"data row9 col8\" >0.28%</td>\n",
       "                        <td id=\"T_f73ceb4e_b538_11ed_bdbb_96000040dfb6row9_col9\" class=\"data row9 col9\" >0.19%</td>\n",
       "                        <td id=\"T_f73ceb4e_b538_11ed_bdbb_96000040dfb6row9_col10\" class=\"data row9 col10\" >0.21%</td>\n",
       "                        <td id=\"T_f73ceb4e_b538_11ed_bdbb_96000040dfb6row9_col11\" class=\"data row9 col11\" ></td>\n",
       "                        <td id=\"T_f73ceb4e_b538_11ed_bdbb_96000040dfb6row9_col12\" class=\"data row9 col12\" ></td>\n",
       "                        <td id=\"T_f73ceb4e_b538_11ed_bdbb_96000040dfb6row9_col13\" class=\"data row9 col13\" ></td>\n",
       "                        <td id=\"T_f73ceb4e_b538_11ed_bdbb_96000040dfb6row9_col14\" class=\"data row9 col14\" ></td>\n",
       "                        <td id=\"T_f73ceb4e_b538_11ed_bdbb_96000040dfb6row9_col15\" class=\"data row9 col15\" ></td>\n",
       "                        <td id=\"T_f73ceb4e_b538_11ed_bdbb_96000040dfb6row9_col16\" class=\"data row9 col16\" ></td>\n",
       "                        <td id=\"T_f73ceb4e_b538_11ed_bdbb_96000040dfb6row9_col17\" class=\"data row9 col17\" ></td>\n",
       "                        <td id=\"T_f73ceb4e_b538_11ed_bdbb_96000040dfb6row9_col18\" class=\"data row9 col18\" ></td>\n",
       "            </tr>\n",
       "            <tr>\n",
       "                        <th id=\"T_f73ceb4e_b538_11ed_bdbb_96000040dfb6level0_row10\" class=\"row_heading level0 row10\" >2017-11</th>\n",
       "                        <td id=\"T_f73ceb4e_b538_11ed_bdbb_96000040dfb6row10_col0\" class=\"data row10 col0\" >100.00%</td>\n",
       "                        <td id=\"T_f73ceb4e_b538_11ed_bdbb_96000040dfb6row10_col1\" class=\"data row10 col1\" >0.56%</td>\n",
       "                        <td id=\"T_f73ceb4e_b538_11ed_bdbb_96000040dfb6row10_col2\" class=\"data row10 col2\" >0.39%</td>\n",
       "                        <td id=\"T_f73ceb4e_b538_11ed_bdbb_96000040dfb6row10_col3\" class=\"data row10 col3\" >0.16%</td>\n",
       "                        <td id=\"T_f73ceb4e_b538_11ed_bdbb_96000040dfb6row10_col4\" class=\"data row10 col4\" >0.17%</td>\n",
       "                        <td id=\"T_f73ceb4e_b538_11ed_bdbb_96000040dfb6row10_col5\" class=\"data row10 col5\" >0.16%</td>\n",
       "                        <td id=\"T_f73ceb4e_b538_11ed_bdbb_96000040dfb6row10_col6\" class=\"data row10 col6\" >0.13%</td>\n",
       "                        <td id=\"T_f73ceb4e_b538_11ed_bdbb_96000040dfb6row10_col7\" class=\"data row10 col7\" >0.20%</td>\n",
       "                        <td id=\"T_f73ceb4e_b538_11ed_bdbb_96000040dfb6row10_col8\" class=\"data row10 col8\" >0.12%</td>\n",
       "                        <td id=\"T_f73ceb4e_b538_11ed_bdbb_96000040dfb6row10_col9\" class=\"data row10 col9\" >0.07%</td>\n",
       "                        <td id=\"T_f73ceb4e_b538_11ed_bdbb_96000040dfb6row10_col10\" class=\"data row10 col10\" ></td>\n",
       "                        <td id=\"T_f73ceb4e_b538_11ed_bdbb_96000040dfb6row10_col11\" class=\"data row10 col11\" ></td>\n",
       "                        <td id=\"T_f73ceb4e_b538_11ed_bdbb_96000040dfb6row10_col12\" class=\"data row10 col12\" ></td>\n",
       "                        <td id=\"T_f73ceb4e_b538_11ed_bdbb_96000040dfb6row10_col13\" class=\"data row10 col13\" ></td>\n",
       "                        <td id=\"T_f73ceb4e_b538_11ed_bdbb_96000040dfb6row10_col14\" class=\"data row10 col14\" ></td>\n",
       "                        <td id=\"T_f73ceb4e_b538_11ed_bdbb_96000040dfb6row10_col15\" class=\"data row10 col15\" ></td>\n",
       "                        <td id=\"T_f73ceb4e_b538_11ed_bdbb_96000040dfb6row10_col16\" class=\"data row10 col16\" ></td>\n",
       "                        <td id=\"T_f73ceb4e_b538_11ed_bdbb_96000040dfb6row10_col17\" class=\"data row10 col17\" ></td>\n",
       "                        <td id=\"T_f73ceb4e_b538_11ed_bdbb_96000040dfb6row10_col18\" class=\"data row10 col18\" ></td>\n",
       "            </tr>\n",
       "            <tr>\n",
       "                        <th id=\"T_f73ceb4e_b538_11ed_bdbb_96000040dfb6level0_row11\" class=\"row_heading level0 row11\" >2017-12</th>\n",
       "                        <td id=\"T_f73ceb4e_b538_11ed_bdbb_96000040dfb6row11_col0\" class=\"data row11 col0\" >100.00%</td>\n",
       "                        <td id=\"T_f73ceb4e_b538_11ed_bdbb_96000040dfb6row11_col1\" class=\"data row11 col1\" >0.26%</td>\n",
       "                        <td id=\"T_f73ceb4e_b538_11ed_bdbb_96000040dfb6row11_col2\" class=\"data row11 col2\" >0.27%</td>\n",
       "                        <td id=\"T_f73ceb4e_b538_11ed_bdbb_96000040dfb6row11_col3\" class=\"data row11 col3\" >0.33%</td>\n",
       "                        <td id=\"T_f73ceb4e_b538_11ed_bdbb_96000040dfb6row11_col4\" class=\"data row11 col4\" >0.26%</td>\n",
       "                        <td id=\"T_f73ceb4e_b538_11ed_bdbb_96000040dfb6row11_col5\" class=\"data row11 col5\" >0.20%</td>\n",
       "                        <td id=\"T_f73ceb4e_b538_11ed_bdbb_96000040dfb6row11_col6\" class=\"data row11 col6\" >0.16%</td>\n",
       "                        <td id=\"T_f73ceb4e_b538_11ed_bdbb_96000040dfb6row11_col7\" class=\"data row11 col7\" >0.04%</td>\n",
       "                        <td id=\"T_f73ceb4e_b538_11ed_bdbb_96000040dfb6row11_col8\" class=\"data row11 col8\" >0.22%</td>\n",
       "                        <td id=\"T_f73ceb4e_b538_11ed_bdbb_96000040dfb6row11_col9\" class=\"data row11 col9\" ></td>\n",
       "                        <td id=\"T_f73ceb4e_b538_11ed_bdbb_96000040dfb6row11_col10\" class=\"data row11 col10\" ></td>\n",
       "                        <td id=\"T_f73ceb4e_b538_11ed_bdbb_96000040dfb6row11_col11\" class=\"data row11 col11\" ></td>\n",
       "                        <td id=\"T_f73ceb4e_b538_11ed_bdbb_96000040dfb6row11_col12\" class=\"data row11 col12\" ></td>\n",
       "                        <td id=\"T_f73ceb4e_b538_11ed_bdbb_96000040dfb6row11_col13\" class=\"data row11 col13\" ></td>\n",
       "                        <td id=\"T_f73ceb4e_b538_11ed_bdbb_96000040dfb6row11_col14\" class=\"data row11 col14\" ></td>\n",
       "                        <td id=\"T_f73ceb4e_b538_11ed_bdbb_96000040dfb6row11_col15\" class=\"data row11 col15\" ></td>\n",
       "                        <td id=\"T_f73ceb4e_b538_11ed_bdbb_96000040dfb6row11_col16\" class=\"data row11 col16\" ></td>\n",
       "                        <td id=\"T_f73ceb4e_b538_11ed_bdbb_96000040dfb6row11_col17\" class=\"data row11 col17\" ></td>\n",
       "                        <td id=\"T_f73ceb4e_b538_11ed_bdbb_96000040dfb6row11_col18\" class=\"data row11 col18\" ></td>\n",
       "            </tr>\n",
       "    </tbody></table>"
      ],
      "text/plain": [
       "<pandas.io.formats.style.Styler at 0x7f3a3febb1d0>"
      ]
     },
     "execution_count": 183,
     "metadata": {},
     "output_type": "execute_result"
    }
   ],
   "source": [
    "retention = for_kohort_table_finish.div(for_kohort_table_finish.iloc[:,0], axis = 0)\n",
    "final_table = (retention\n",
    "            .style\n",
    "            .set_caption('Retention by cohort')  # добавляем подпись\n",
    "            .background_gradient(cmap='viridis')  # раскрашиваем ячейки по столбцам\n",
    "            .highlight_null('white')  # делаем белый фон для значений NaN\n",
    "            .format(\"{:.2%}\", na_rep=\"\"))  # числа форматируем как проценты, NaN заменяем на пустоту\n",
    "\n",
    "final_table"
   ]
  },
  {
   "cell_type": "markdown",
   "metadata": {},
   "source": [
    "В период с января по декабрь необходимо было найти когорту с самым высоким retention на 3й месяц.\n",
    "\n",
    "Ответим на вопрос задачи:"
   ]
  },
  {
   "cell_type": "code",
   "execution_count": 184,
   "metadata": {},
   "outputs": [
    {
     "data": {
      "text/plain": [
       "Period('2017-05', 'M')"
      ]
     },
     "execution_count": 184,
     "metadata": {},
     "output_type": "execute_result"
    }
   ],
   "source": [
    "retention[2].idxmax()"
   ]
  },
  {
   "cell_type": "markdown",
   "metadata": {},
   "source": [
    "# Часто для качественного анализа аудитории использую подходы, основанные на сегментации.\n",
    "\n",
    "## Используя python,построй RFM-сегментацию пользователей, чтобы качественно оценить свою аудиторию. В кластеризации можешь выбрать следующие метрики:\n",
    "\n",
    "### R - время от последней покупки пользователя до текущей даты,\n",
    "\n",
    "### F - суммарное количество покупок у пользователя за всё время,\n",
    "\n",
    "### M - сумма покупок за всё время.\n",
    "\n",
    "### Для каждого RFM-сегмента построй границы метрик recency, frequency и monetary для интерпретации этих кластеров."
   ]
  },
  {
   "cell_type": "markdown",
   "metadata": {},
   "source": [
    "Для начала объединим все три таблицы в одну и сбросим пустые значения"
   ]
  },
  {
   "cell_type": "code",
   "execution_count": 185,
   "metadata": {},
   "outputs": [],
   "source": [
    "full_table = df_o_i.merge(df_c).dropna()  "
   ]
  },
  {
   "cell_type": "code",
   "execution_count": 186,
   "metadata": {},
   "outputs": [
    {
     "data": {
      "text/html": [
       "<div>\n",
       "<style scoped>\n",
       "    .dataframe tbody tr th:only-of-type {\n",
       "        vertical-align: middle;\n",
       "    }\n",
       "\n",
       "    .dataframe tbody tr th {\n",
       "        vertical-align: top;\n",
       "    }\n",
       "\n",
       "    .dataframe thead th {\n",
       "        text-align: right;\n",
       "    }\n",
       "</style>\n",
       "<table border=\"1\" class=\"dataframe\">\n",
       "  <thead>\n",
       "    <tr style=\"text-align: right;\">\n",
       "      <th></th>\n",
       "      <th>order_id</th>\n",
       "      <th>customer_id</th>\n",
       "      <th>order_status</th>\n",
       "      <th>order_purchase_timestamp</th>\n",
       "      <th>order_approved_at</th>\n",
       "      <th>order_delivered_carrier_date</th>\n",
       "      <th>order_delivered_customer_date</th>\n",
       "      <th>order_estimated_delivery_date</th>\n",
       "      <th>order_item_id</th>\n",
       "      <th>product_id</th>\n",
       "      <th>seller_id</th>\n",
       "      <th>shipping_limit_date</th>\n",
       "      <th>price</th>\n",
       "      <th>freight_value</th>\n",
       "      <th>customer_unique_id</th>\n",
       "      <th>customer_zip_code_prefix</th>\n",
       "      <th>customer_city</th>\n",
       "      <th>customer_state</th>\n",
       "    </tr>\n",
       "  </thead>\n",
       "  <tbody>\n",
       "    <tr>\n",
       "      <th>0</th>\n",
       "      <td>e481f51cbdc54678b7cc49136f2d6af7</td>\n",
       "      <td>9ef432eb6251297304e76186b10a928d</td>\n",
       "      <td>delivered</td>\n",
       "      <td>2017-10-02 10:56:33</td>\n",
       "      <td>2017-10-02 11:07:15</td>\n",
       "      <td>2017-10-04 19:55:00</td>\n",
       "      <td>2017-10-10 21:25:13</td>\n",
       "      <td>2017-10-18</td>\n",
       "      <td>1</td>\n",
       "      <td>87285b34884572647811a353c7ac498a</td>\n",
       "      <td>3504c0cb71d7fa48d967e0e4c94d59d9</td>\n",
       "      <td>2017-10-06 11:07:15</td>\n",
       "      <td>29.99</td>\n",
       "      <td>8.72</td>\n",
       "      <td>7c396fd4830fd04220f754e42b4e5bff</td>\n",
       "      <td>3149</td>\n",
       "      <td>sao paulo</td>\n",
       "      <td>SP</td>\n",
       "    </tr>\n",
       "    <tr>\n",
       "      <th>1</th>\n",
       "      <td>53cdb2fc8bc7dce0b6741e2150273451</td>\n",
       "      <td>b0830fb4747a6c6d20dea0b8c802d7ef</td>\n",
       "      <td>delivered</td>\n",
       "      <td>2018-07-24 20:41:37</td>\n",
       "      <td>2018-07-26 03:24:27</td>\n",
       "      <td>2018-07-26 14:31:00</td>\n",
       "      <td>2018-08-07 15:27:45</td>\n",
       "      <td>2018-08-13</td>\n",
       "      <td>1</td>\n",
       "      <td>595fac2a385ac33a80bd5114aec74eb8</td>\n",
       "      <td>289cdb325fb7e7f891c38608bf9e0962</td>\n",
       "      <td>2018-07-30 03:24:27</td>\n",
       "      <td>118.70</td>\n",
       "      <td>22.76</td>\n",
       "      <td>af07308b275d755c9edb36a90c618231</td>\n",
       "      <td>47813</td>\n",
       "      <td>barreiras</td>\n",
       "      <td>BA</td>\n",
       "    </tr>\n",
       "    <tr>\n",
       "      <th>2</th>\n",
       "      <td>47770eb9100c2d0c44946d9cf07ec65d</td>\n",
       "      <td>41ce2a54c0b03bf3443c3d931a367089</td>\n",
       "      <td>delivered</td>\n",
       "      <td>2018-08-08 08:38:49</td>\n",
       "      <td>2018-08-08 08:55:23</td>\n",
       "      <td>2018-08-08 13:50:00</td>\n",
       "      <td>2018-08-17 18:06:29</td>\n",
       "      <td>2018-09-04</td>\n",
       "      <td>1</td>\n",
       "      <td>aa4383b373c6aca5d8797843e5594415</td>\n",
       "      <td>4869f7a5dfa277a7dca6462dcf3b52b2</td>\n",
       "      <td>2018-08-13 08:55:23</td>\n",
       "      <td>159.90</td>\n",
       "      <td>19.22</td>\n",
       "      <td>3a653a41f6f9fc3d2a113cf8398680e8</td>\n",
       "      <td>75265</td>\n",
       "      <td>vianopolis</td>\n",
       "      <td>GO</td>\n",
       "    </tr>\n",
       "    <tr>\n",
       "      <th>3</th>\n",
       "      <td>949d5b44dbf5de918fe9c16f97b45f8a</td>\n",
       "      <td>f88197465ea7920adcdbec7375364d82</td>\n",
       "      <td>delivered</td>\n",
       "      <td>2017-11-18 19:28:06</td>\n",
       "      <td>2017-11-18 19:45:59</td>\n",
       "      <td>2017-11-22 13:39:59</td>\n",
       "      <td>2017-12-02 00:28:42</td>\n",
       "      <td>2017-12-15</td>\n",
       "      <td>1</td>\n",
       "      <td>d0b61bfb1de832b15ba9d266ca96e5b0</td>\n",
       "      <td>66922902710d126a0e7d26b0e3805106</td>\n",
       "      <td>2017-11-23 19:45:59</td>\n",
       "      <td>45.00</td>\n",
       "      <td>27.20</td>\n",
       "      <td>7c142cf63193a1473d2e66489a9ae977</td>\n",
       "      <td>59296</td>\n",
       "      <td>sao goncalo do amarante</td>\n",
       "      <td>RN</td>\n",
       "    </tr>\n",
       "    <tr>\n",
       "      <th>4</th>\n",
       "      <td>ad21c59c0840e6cb83a9ceb5573f8159</td>\n",
       "      <td>8ab97904e6daea8866dbdbc4fb7aad2c</td>\n",
       "      <td>delivered</td>\n",
       "      <td>2018-02-13 21:18:39</td>\n",
       "      <td>2018-02-13 22:20:29</td>\n",
       "      <td>2018-02-14 19:46:34</td>\n",
       "      <td>2018-02-16 18:17:02</td>\n",
       "      <td>2018-02-26</td>\n",
       "      <td>1</td>\n",
       "      <td>65266b2da20d04dbe00c5c2d3bb7859e</td>\n",
       "      <td>2c9e548be18521d1c43cde1c582c6de8</td>\n",
       "      <td>2018-02-19 20:31:37</td>\n",
       "      <td>19.90</td>\n",
       "      <td>8.72</td>\n",
       "      <td>72632f0f9dd73dfee390c9b22eb56dd6</td>\n",
       "      <td>9195</td>\n",
       "      <td>santo andre</td>\n",
       "      <td>SP</td>\n",
       "    </tr>\n",
       "  </tbody>\n",
       "</table>\n",
       "</div>"
      ],
      "text/plain": [
       "                           order_id                       customer_id  \\\n",
       "0  e481f51cbdc54678b7cc49136f2d6af7  9ef432eb6251297304e76186b10a928d   \n",
       "1  53cdb2fc8bc7dce0b6741e2150273451  b0830fb4747a6c6d20dea0b8c802d7ef   \n",
       "2  47770eb9100c2d0c44946d9cf07ec65d  41ce2a54c0b03bf3443c3d931a367089   \n",
       "3  949d5b44dbf5de918fe9c16f97b45f8a  f88197465ea7920adcdbec7375364d82   \n",
       "4  ad21c59c0840e6cb83a9ceb5573f8159  8ab97904e6daea8866dbdbc4fb7aad2c   \n",
       "\n",
       "  order_status order_purchase_timestamp   order_approved_at  \\\n",
       "0    delivered      2017-10-02 10:56:33 2017-10-02 11:07:15   \n",
       "1    delivered      2018-07-24 20:41:37 2018-07-26 03:24:27   \n",
       "2    delivered      2018-08-08 08:38:49 2018-08-08 08:55:23   \n",
       "3    delivered      2017-11-18 19:28:06 2017-11-18 19:45:59   \n",
       "4    delivered      2018-02-13 21:18:39 2018-02-13 22:20:29   \n",
       "\n",
       "  order_delivered_carrier_date order_delivered_customer_date  \\\n",
       "0          2017-10-04 19:55:00           2017-10-10 21:25:13   \n",
       "1          2018-07-26 14:31:00           2018-08-07 15:27:45   \n",
       "2          2018-08-08 13:50:00           2018-08-17 18:06:29   \n",
       "3          2017-11-22 13:39:59           2017-12-02 00:28:42   \n",
       "4          2018-02-14 19:46:34           2018-02-16 18:17:02   \n",
       "\n",
       "  order_estimated_delivery_date  order_item_id  \\\n",
       "0                    2017-10-18              1   \n",
       "1                    2018-08-13              1   \n",
       "2                    2018-09-04              1   \n",
       "3                    2017-12-15              1   \n",
       "4                    2018-02-26              1   \n",
       "\n",
       "                         product_id                         seller_id  \\\n",
       "0  87285b34884572647811a353c7ac498a  3504c0cb71d7fa48d967e0e4c94d59d9   \n",
       "1  595fac2a385ac33a80bd5114aec74eb8  289cdb325fb7e7f891c38608bf9e0962   \n",
       "2  aa4383b373c6aca5d8797843e5594415  4869f7a5dfa277a7dca6462dcf3b52b2   \n",
       "3  d0b61bfb1de832b15ba9d266ca96e5b0  66922902710d126a0e7d26b0e3805106   \n",
       "4  65266b2da20d04dbe00c5c2d3bb7859e  2c9e548be18521d1c43cde1c582c6de8   \n",
       "\n",
       "   shipping_limit_date   price  freight_value  \\\n",
       "0  2017-10-06 11:07:15   29.99           8.72   \n",
       "1  2018-07-30 03:24:27  118.70          22.76   \n",
       "2  2018-08-13 08:55:23  159.90          19.22   \n",
       "3  2017-11-23 19:45:59   45.00          27.20   \n",
       "4  2018-02-19 20:31:37   19.90           8.72   \n",
       "\n",
       "                 customer_unique_id  customer_zip_code_prefix  \\\n",
       "0  7c396fd4830fd04220f754e42b4e5bff                      3149   \n",
       "1  af07308b275d755c9edb36a90c618231                     47813   \n",
       "2  3a653a41f6f9fc3d2a113cf8398680e8                     75265   \n",
       "3  7c142cf63193a1473d2e66489a9ae977                     59296   \n",
       "4  72632f0f9dd73dfee390c9b22eb56dd6                      9195   \n",
       "\n",
       "             customer_city customer_state  \n",
       "0                sao paulo             SP  \n",
       "1                barreiras             BA  \n",
       "2               vianopolis             GO  \n",
       "3  sao goncalo do amarante             RN  \n",
       "4              santo andre             SP  "
      ]
     },
     "execution_count": 186,
     "metadata": {},
     "output_type": "execute_result"
    }
   ],
   "source": [
    "full_table.head()"
   ]
  },
  {
   "cell_type": "markdown",
   "metadata": {},
   "source": [
    "В качестве текущей примем дату самой последней в столбце order_approved_at, увеличенную на 1 день, будто анализируем на следующий день после сбора данных"
   ]
  },
  {
   "cell_type": "code",
   "execution_count": 187,
   "metadata": {},
   "outputs": [],
   "source": [
    "yesterday = full_table.order_delivered_customer_date.max()"
   ]
  },
  {
   "cell_type": "code",
   "execution_count": 188,
   "metadata": {},
   "outputs": [],
   "source": [
    "today = yesterday + timedelta(days=1)"
   ]
  },
  {
   "cell_type": "markdown",
   "metadata": {},
   "source": [
    "\n",
    "Теперь подготовим данные для RFM"
   ]
  },
  {
   "cell_type": "code",
   "execution_count": 189,
   "metadata": {},
   "outputs": [],
   "source": [
    "for_rfm = full_table.groupby('customer_unique_id',as_index=False)\\\n",
    "                    .agg({'order_delivered_customer_date': lambda x: (today - x.max()).days,\\\n",
    "                          'product_id': lambda x: len(x),\\\n",
    "                          'price': lambda x: x.sum()})\\\n",
    "                    .rename(columns={'order_delivered_customer_date': 'R', 'product_id': 'F', 'price': 'M'})"
   ]
  },
  {
   "cell_type": "markdown",
   "metadata": {},
   "source": [
    "Когда имеются значения для RFM, нужно выделить диапазоны\n",
    "\n",
    "Каждый квантиль будет содержать 20%\n",
    "\n",
    "Разбиваем на диапазон: до 20%, 20-40%, 40-60%, 60-80% и выше 80 %"
   ]
  },
  {
   "cell_type": "code",
   "execution_count": 190,
   "metadata": {},
   "outputs": [
    {
     "data": {
      "text/html": [
       "<div>\n",
       "<style scoped>\n",
       "    .dataframe tbody tr th:only-of-type {\n",
       "        vertical-align: middle;\n",
       "    }\n",
       "\n",
       "    .dataframe tbody tr th {\n",
       "        vertical-align: top;\n",
       "    }\n",
       "\n",
       "    .dataframe thead th {\n",
       "        text-align: right;\n",
       "    }\n",
       "</style>\n",
       "<table border=\"1\" class=\"dataframe\">\n",
       "  <thead>\n",
       "    <tr style=\"text-align: right;\">\n",
       "      <th></th>\n",
       "      <th>customer_unique_id</th>\n",
       "      <th>R</th>\n",
       "      <th>F</th>\n",
       "      <th>M</th>\n",
       "    </tr>\n",
       "  </thead>\n",
       "  <tbody>\n",
       "    <tr>\n",
       "      <th>0</th>\n",
       "      <td>0000366f3b9a7992bf8c76cfdf3221e2</td>\n",
       "      <td>154</td>\n",
       "      <td>1</td>\n",
       "      <td>129.90</td>\n",
       "    </tr>\n",
       "    <tr>\n",
       "      <th>1</th>\n",
       "      <td>0000b849f77a49e4a4ce2b2a4ca5be3f</td>\n",
       "      <td>160</td>\n",
       "      <td>1</td>\n",
       "      <td>18.90</td>\n",
       "    </tr>\n",
       "    <tr>\n",
       "      <th>2</th>\n",
       "      <td>0000f46a3911fa3c0805444483337064</td>\n",
       "      <td>560</td>\n",
       "      <td>1</td>\n",
       "      <td>69.00</td>\n",
       "    </tr>\n",
       "    <tr>\n",
       "      <th>3</th>\n",
       "      <td>0000f6ccb0745a6a4b88665a16c9f078</td>\n",
       "      <td>350</td>\n",
       "      <td>1</td>\n",
       "      <td>25.99</td>\n",
       "    </tr>\n",
       "    <tr>\n",
       "      <th>4</th>\n",
       "      <td>0004aac84e0df4da2b147fca70cf8255</td>\n",
       "      <td>324</td>\n",
       "      <td>1</td>\n",
       "      <td>180.00</td>\n",
       "    </tr>\n",
       "  </tbody>\n",
       "</table>\n",
       "</div>"
      ],
      "text/plain": [
       "                 customer_unique_id    R  F       M\n",
       "0  0000366f3b9a7992bf8c76cfdf3221e2  154  1  129.90\n",
       "1  0000b849f77a49e4a4ce2b2a4ca5be3f  160  1   18.90\n",
       "2  0000f46a3911fa3c0805444483337064  560  1   69.00\n",
       "3  0000f6ccb0745a6a4b88665a16c9f078  350  1   25.99\n",
       "4  0004aac84e0df4da2b147fca70cf8255  324  1  180.00"
      ]
     },
     "execution_count": 190,
     "metadata": {},
     "output_type": "execute_result"
    }
   ],
   "source": [
    "for_rfm.head()"
   ]
  },
  {
   "cell_type": "code",
   "execution_count": 191,
   "metadata": {},
   "outputs": [
    {
     "data": {
      "text/html": [
       "<div>\n",
       "<style scoped>\n",
       "    .dataframe tbody tr th:only-of-type {\n",
       "        vertical-align: middle;\n",
       "    }\n",
       "\n",
       "    .dataframe tbody tr th {\n",
       "        vertical-align: top;\n",
       "    }\n",
       "\n",
       "    .dataframe thead th {\n",
       "        text-align: right;\n",
       "    }\n",
       "</style>\n",
       "<table border=\"1\" class=\"dataframe\">\n",
       "  <thead>\n",
       "    <tr style=\"text-align: right;\">\n",
       "      <th></th>\n",
       "      <th>R</th>\n",
       "      <th>F</th>\n",
       "      <th>M</th>\n",
       "    </tr>\n",
       "  </thead>\n",
       "  <tbody>\n",
       "    <tr>\n",
       "      <th>0.2</th>\n",
       "      <td>128.0</td>\n",
       "      <td>1.0</td>\n",
       "      <td>39.9</td>\n",
       "    </tr>\n",
       "    <tr>\n",
       "      <th>0.4</th>\n",
       "      <td>209.0</td>\n",
       "      <td>1.0</td>\n",
       "      <td>69.9</td>\n",
       "    </tr>\n",
       "    <tr>\n",
       "      <th>0.6</th>\n",
       "      <td>301.0</td>\n",
       "      <td>1.0</td>\n",
       "      <td>109.9</td>\n",
       "    </tr>\n",
       "    <tr>\n",
       "      <th>0.8</th>\n",
       "      <td>419.0</td>\n",
       "      <td>1.0</td>\n",
       "      <td>179.9</td>\n",
       "    </tr>\n",
       "  </tbody>\n",
       "</table>\n",
       "</div>"
      ],
      "text/plain": [
       "         R    F      M\n",
       "0.2  128.0  1.0   39.9\n",
       "0.4  209.0  1.0   69.9\n",
       "0.6  301.0  1.0  109.9\n",
       "0.8  419.0  1.0  179.9"
      ]
     },
     "execution_count": 191,
     "metadata": {},
     "output_type": "execute_result"
    }
   ],
   "source": [
    "quantiles = for_rfm.quantile(q=[.2, .4, .6, .8])\n",
    "quantiles"
   ]
  },
  {
   "cell_type": "markdown",
   "metadata": {},
   "source": [
    "Выделим сегменты покупателей"
   ]
  },
  {
   "cell_type": "code",
   "execution_count": 192,
   "metadata": {},
   "outputs": [],
   "source": [
    "def RClass(value,parameter,quantiles_table):\n",
    "    if value <= quantiles_table[parameter][0.20]:\n",
    "        return 1\n",
    "    elif value <= quantiles_table[parameter][0.40]:\n",
    "        return 2\n",
    "    elif value <= quantiles_table[parameter][0.60]:\n",
    "        return 3\n",
    "    elif value <= quantiles_table[parameter][0.80]:\n",
    "        return 4\n",
    "    else:\n",
    "        return 5\n",
    "    \n",
    "    \n",
    "def FMClass(value,parameter,quantiles_table):\n",
    "    if value <= quantiles[parameter][0.20]:\n",
    "        return 5\n",
    "    elif value <= quantiles[parameter][0.40]:\n",
    "        return 4\n",
    "    elif value <= quantiles[parameter][0.60]:\n",
    "        return 3\n",
    "    elif value <= quantiles_table[parameter][0.80]:\n",
    "        return 2\n",
    "    else:\n",
    "        return 1   "
   ]
  },
  {
   "cell_type": "markdown",
   "metadata": {},
   "source": [
    "Применяем функцию для каждого кластера"
   ]
  },
  {
   "cell_type": "code",
   "execution_count": 193,
   "metadata": {},
   "outputs": [],
   "source": [
    "for_rfm['R_range'] = for_rfm['R'].apply(RClass, args=('R',quantiles))\n",
    "\n",
    "for_rfm['F_range'] = for_rfm['F'].apply(FMClass, args=('F',quantiles))\n",
    "\n",
    "for_rfm['M_range'] = for_rfm['M'].apply(FMClass, args=('M',quantiles))\n",
    "\n",
    "for_rfm['RFM_r'] = for_rfm.R_range.map(str) + for_rfm.F_range.map(str) + for_rfm.M_range.map(str)\n"
   ]
  },
  {
   "cell_type": "code",
   "execution_count": 194,
   "metadata": {},
   "outputs": [
    {
     "data": {
      "text/html": [
       "<div>\n",
       "<style scoped>\n",
       "    .dataframe tbody tr th:only-of-type {\n",
       "        vertical-align: middle;\n",
       "    }\n",
       "\n",
       "    .dataframe tbody tr th {\n",
       "        vertical-align: top;\n",
       "    }\n",
       "\n",
       "    .dataframe thead th {\n",
       "        text-align: right;\n",
       "    }\n",
       "</style>\n",
       "<table border=\"1\" class=\"dataframe\">\n",
       "  <thead>\n",
       "    <tr style=\"text-align: right;\">\n",
       "      <th></th>\n",
       "      <th>customer_unique_id</th>\n",
       "      <th>R</th>\n",
       "      <th>F</th>\n",
       "      <th>M</th>\n",
       "      <th>R_range</th>\n",
       "      <th>F_range</th>\n",
       "      <th>M_range</th>\n",
       "      <th>RFM_r</th>\n",
       "    </tr>\n",
       "  </thead>\n",
       "  <tbody>\n",
       "    <tr>\n",
       "      <th>0</th>\n",
       "      <td>0000366f3b9a7992bf8c76cfdf3221e2</td>\n",
       "      <td>154</td>\n",
       "      <td>1</td>\n",
       "      <td>129.90</td>\n",
       "      <td>2</td>\n",
       "      <td>5</td>\n",
       "      <td>2</td>\n",
       "      <td>252</td>\n",
       "    </tr>\n",
       "    <tr>\n",
       "      <th>1</th>\n",
       "      <td>0000b849f77a49e4a4ce2b2a4ca5be3f</td>\n",
       "      <td>160</td>\n",
       "      <td>1</td>\n",
       "      <td>18.90</td>\n",
       "      <td>2</td>\n",
       "      <td>5</td>\n",
       "      <td>5</td>\n",
       "      <td>255</td>\n",
       "    </tr>\n",
       "    <tr>\n",
       "      <th>2</th>\n",
       "      <td>0000f46a3911fa3c0805444483337064</td>\n",
       "      <td>560</td>\n",
       "      <td>1</td>\n",
       "      <td>69.00</td>\n",
       "      <td>5</td>\n",
       "      <td>5</td>\n",
       "      <td>4</td>\n",
       "      <td>554</td>\n",
       "    </tr>\n",
       "    <tr>\n",
       "      <th>3</th>\n",
       "      <td>0000f6ccb0745a6a4b88665a16c9f078</td>\n",
       "      <td>350</td>\n",
       "      <td>1</td>\n",
       "      <td>25.99</td>\n",
       "      <td>4</td>\n",
       "      <td>5</td>\n",
       "      <td>5</td>\n",
       "      <td>455</td>\n",
       "    </tr>\n",
       "    <tr>\n",
       "      <th>4</th>\n",
       "      <td>0004aac84e0df4da2b147fca70cf8255</td>\n",
       "      <td>324</td>\n",
       "      <td>1</td>\n",
       "      <td>180.00</td>\n",
       "      <td>4</td>\n",
       "      <td>5</td>\n",
       "      <td>1</td>\n",
       "      <td>451</td>\n",
       "    </tr>\n",
       "    <tr>\n",
       "      <th>...</th>\n",
       "      <td>...</td>\n",
       "      <td>...</td>\n",
       "      <td>...</td>\n",
       "      <td>...</td>\n",
       "      <td>...</td>\n",
       "      <td>...</td>\n",
       "      <td>...</td>\n",
       "      <td>...</td>\n",
       "    </tr>\n",
       "    <tr>\n",
       "      <th>93337</th>\n",
       "      <td>fffcf5a5ff07b0908bd4e2dbc735a684</td>\n",
       "      <td>469</td>\n",
       "      <td>2</td>\n",
       "      <td>1570.00</td>\n",
       "      <td>5</td>\n",
       "      <td>1</td>\n",
       "      <td>1</td>\n",
       "      <td>511</td>\n",
       "    </tr>\n",
       "    <tr>\n",
       "      <th>93338</th>\n",
       "      <td>fffea47cd6d3cc0a88bd621562a9d061</td>\n",
       "      <td>281</td>\n",
       "      <td>1</td>\n",
       "      <td>64.89</td>\n",
       "      <td>3</td>\n",
       "      <td>5</td>\n",
       "      <td>4</td>\n",
       "      <td>354</td>\n",
       "    </tr>\n",
       "    <tr>\n",
       "      <th>93339</th>\n",
       "      <td>ffff371b4d645b6ecea244b27531430a</td>\n",
       "      <td>603</td>\n",
       "      <td>1</td>\n",
       "      <td>89.90</td>\n",
       "      <td>5</td>\n",
       "      <td>5</td>\n",
       "      <td>3</td>\n",
       "      <td>553</td>\n",
       "    </tr>\n",
       "    <tr>\n",
       "      <th>93340</th>\n",
       "      <td>ffff5962728ec6157033ef9805bacc48</td>\n",
       "      <td>157</td>\n",
       "      <td>1</td>\n",
       "      <td>115.00</td>\n",
       "      <td>2</td>\n",
       "      <td>5</td>\n",
       "      <td>2</td>\n",
       "      <td>252</td>\n",
       "    </tr>\n",
       "    <tr>\n",
       "      <th>93341</th>\n",
       "      <td>ffffd2657e2aad2907e67c3e9daecbeb</td>\n",
       "      <td>526</td>\n",
       "      <td>1</td>\n",
       "      <td>56.99</td>\n",
       "      <td>5</td>\n",
       "      <td>5</td>\n",
       "      <td>4</td>\n",
       "      <td>554</td>\n",
       "    </tr>\n",
       "  </tbody>\n",
       "</table>\n",
       "<p>93342 rows × 8 columns</p>\n",
       "</div>"
      ],
      "text/plain": [
       "                     customer_unique_id    R  F        M  R_range  F_range  \\\n",
       "0      0000366f3b9a7992bf8c76cfdf3221e2  154  1   129.90        2        5   \n",
       "1      0000b849f77a49e4a4ce2b2a4ca5be3f  160  1    18.90        2        5   \n",
       "2      0000f46a3911fa3c0805444483337064  560  1    69.00        5        5   \n",
       "3      0000f6ccb0745a6a4b88665a16c9f078  350  1    25.99        4        5   \n",
       "4      0004aac84e0df4da2b147fca70cf8255  324  1   180.00        4        5   \n",
       "...                                 ...  ... ..      ...      ...      ...   \n",
       "93337  fffcf5a5ff07b0908bd4e2dbc735a684  469  2  1570.00        5        1   \n",
       "93338  fffea47cd6d3cc0a88bd621562a9d061  281  1    64.89        3        5   \n",
       "93339  ffff371b4d645b6ecea244b27531430a  603  1    89.90        5        5   \n",
       "93340  ffff5962728ec6157033ef9805bacc48  157  1   115.00        2        5   \n",
       "93341  ffffd2657e2aad2907e67c3e9daecbeb  526  1    56.99        5        5   \n",
       "\n",
       "       M_range RFM_r  \n",
       "0            2   252  \n",
       "1            5   255  \n",
       "2            4   554  \n",
       "3            5   455  \n",
       "4            1   451  \n",
       "...        ...   ...  \n",
       "93337        1   511  \n",
       "93338        4   354  \n",
       "93339        3   553  \n",
       "93340        2   252  \n",
       "93341        4   554  \n",
       "\n",
       "[93342 rows x 8 columns]"
      ]
     },
     "execution_count": 194,
     "metadata": {},
     "output_type": "execute_result"
    }
   ],
   "source": [
    "for_rfm"
   ]
  },
  {
   "cell_type": "markdown",
   "metadata": {},
   "source": [
    "Таким образом, выделили сегменты, где 111 - сегмент покупателей, у которых наименьшее время с последней покупки, наибольшее число заказов и сумма покупок, а 555 - сегмент покупателей, у которых наибольшее время с последней покупки, наименьшее число заказов и сумма покупок."
   ]
  },
  {
   "cell_type": "code",
   "execution_count": 206,
   "metadata": {},
   "outputs": [
    {
     "data": {
      "text/html": [
       "<div>\n",
       "<style scoped>\n",
       "    .dataframe tbody tr th:only-of-type {\n",
       "        vertical-align: middle;\n",
       "    }\n",
       "\n",
       "    .dataframe tbody tr th {\n",
       "        vertical-align: top;\n",
       "    }\n",
       "\n",
       "    .dataframe thead th {\n",
       "        text-align: right;\n",
       "    }\n",
       "</style>\n",
       "<table border=\"1\" class=\"dataframe\">\n",
       "  <thead>\n",
       "    <tr style=\"text-align: right;\">\n",
       "      <th></th>\n",
       "      <th>customer_unique_id</th>\n",
       "    </tr>\n",
       "    <tr>\n",
       "      <th>RFM_r</th>\n",
       "      <th></th>\n",
       "    </tr>\n",
       "  </thead>\n",
       "  <tbody>\n",
       "    <tr>\n",
       "      <th>111</th>\n",
       "      <td>955</td>\n",
       "    </tr>\n",
       "    <tr>\n",
       "      <th>112</th>\n",
       "      <td>534</td>\n",
       "    </tr>\n",
       "    <tr>\n",
       "      <th>113</th>\n",
       "      <td>407</td>\n",
       "    </tr>\n",
       "    <tr>\n",
       "      <th>114</th>\n",
       "      <td>248</td>\n",
       "    </tr>\n",
       "    <tr>\n",
       "      <th>115</th>\n",
       "      <td>141</td>\n",
       "    </tr>\n",
       "    <tr>\n",
       "      <th>151</th>\n",
       "      <td>2767</td>\n",
       "    </tr>\n",
       "    <tr>\n",
       "      <th>152</th>\n",
       "      <td>3398</td>\n",
       "    </tr>\n",
       "    <tr>\n",
       "      <th>153</th>\n",
       "      <td>3030</td>\n",
       "    </tr>\n",
       "    <tr>\n",
       "      <th>154</th>\n",
       "      <td>3509</td>\n",
       "    </tr>\n",
       "    <tr>\n",
       "      <th>155</th>\n",
       "      <td>3701</td>\n",
       "    </tr>\n",
       "    <tr>\n",
       "      <th>211</th>\n",
       "      <td>999</td>\n",
       "    </tr>\n",
       "    <tr>\n",
       "      <th>212</th>\n",
       "      <td>588</td>\n",
       "    </tr>\n",
       "    <tr>\n",
       "      <th>213</th>\n",
       "      <td>477</td>\n",
       "    </tr>\n",
       "    <tr>\n",
       "      <th>214</th>\n",
       "      <td>252</td>\n",
       "    </tr>\n",
       "    <tr>\n",
       "      <th>215</th>\n",
       "      <td>147</td>\n",
       "    </tr>\n",
       "    <tr>\n",
       "      <th>251</th>\n",
       "      <td>2870</td>\n",
       "    </tr>\n",
       "    <tr>\n",
       "      <th>252</th>\n",
       "      <td>3454</td>\n",
       "    </tr>\n",
       "    <tr>\n",
       "      <th>253</th>\n",
       "      <td>3021</td>\n",
       "    </tr>\n",
       "    <tr>\n",
       "      <th>254</th>\n",
       "      <td>3519</td>\n",
       "    </tr>\n",
       "    <tr>\n",
       "      <th>255</th>\n",
       "      <td>3552</td>\n",
       "    </tr>\n",
       "    <tr>\n",
       "      <th>311</th>\n",
       "      <td>884</td>\n",
       "    </tr>\n",
       "    <tr>\n",
       "      <th>312</th>\n",
       "      <td>616</td>\n",
       "    </tr>\n",
       "    <tr>\n",
       "      <th>313</th>\n",
       "      <td>400</td>\n",
       "    </tr>\n",
       "    <tr>\n",
       "      <th>314</th>\n",
       "      <td>249</td>\n",
       "    </tr>\n",
       "    <tr>\n",
       "      <th>315</th>\n",
       "      <td>132</td>\n",
       "    </tr>\n",
       "    <tr>\n",
       "      <th>351</th>\n",
       "      <td>2669</td>\n",
       "    </tr>\n",
       "    <tr>\n",
       "      <th>352</th>\n",
       "      <td>3184</td>\n",
       "    </tr>\n",
       "    <tr>\n",
       "      <th>353</th>\n",
       "      <td>3136</td>\n",
       "    </tr>\n",
       "    <tr>\n",
       "      <th>354</th>\n",
       "      <td>3598</td>\n",
       "    </tr>\n",
       "    <tr>\n",
       "      <th>355</th>\n",
       "      <td>3869</td>\n",
       "    </tr>\n",
       "    <tr>\n",
       "      <th>411</th>\n",
       "      <td>887</td>\n",
       "    </tr>\n",
       "    <tr>\n",
       "      <th>412</th>\n",
       "      <td>675</td>\n",
       "    </tr>\n",
       "    <tr>\n",
       "      <th>413</th>\n",
       "      <td>423</td>\n",
       "    </tr>\n",
       "    <tr>\n",
       "      <th>414</th>\n",
       "      <td>262</td>\n",
       "    </tr>\n",
       "    <tr>\n",
       "      <th>415</th>\n",
       "      <td>142</td>\n",
       "    </tr>\n",
       "    <tr>\n",
       "      <th>451</th>\n",
       "      <td>2784</td>\n",
       "    </tr>\n",
       "    <tr>\n",
       "      <th>452</th>\n",
       "      <td>2831</td>\n",
       "    </tr>\n",
       "    <tr>\n",
       "      <th>453</th>\n",
       "      <td>3090</td>\n",
       "    </tr>\n",
       "    <tr>\n",
       "      <th>454</th>\n",
       "      <td>3776</td>\n",
       "    </tr>\n",
       "    <tr>\n",
       "      <th>455</th>\n",
       "      <td>3512</td>\n",
       "    </tr>\n",
       "    <tr>\n",
       "      <th>511</th>\n",
       "      <td>797</td>\n",
       "    </tr>\n",
       "    <tr>\n",
       "      <th>512</th>\n",
       "      <td>510</td>\n",
       "    </tr>\n",
       "    <tr>\n",
       "      <th>513</th>\n",
       "      <td>380</td>\n",
       "    </tr>\n",
       "    <tr>\n",
       "      <th>514</th>\n",
       "      <td>322</td>\n",
       "    </tr>\n",
       "    <tr>\n",
       "      <th>515</th>\n",
       "      <td>182</td>\n",
       "    </tr>\n",
       "    <tr>\n",
       "      <th>551</th>\n",
       "      <td>2886</td>\n",
       "    </tr>\n",
       "    <tr>\n",
       "      <th>552</th>\n",
       "      <td>2836</td>\n",
       "    </tr>\n",
       "    <tr>\n",
       "      <th>553</th>\n",
       "      <td>3085</td>\n",
       "    </tr>\n",
       "    <tr>\n",
       "      <th>554</th>\n",
       "      <td>3697</td>\n",
       "    </tr>\n",
       "    <tr>\n",
       "      <th>555</th>\n",
       "      <td>3959</td>\n",
       "    </tr>\n",
       "  </tbody>\n",
       "</table>\n",
       "</div>"
      ],
      "text/plain": [
       "       customer_unique_id\n",
       "RFM_r                    \n",
       "111                   955\n",
       "112                   534\n",
       "113                   407\n",
       "114                   248\n",
       "115                   141\n",
       "151                  2767\n",
       "152                  3398\n",
       "153                  3030\n",
       "154                  3509\n",
       "155                  3701\n",
       "211                   999\n",
       "212                   588\n",
       "213                   477\n",
       "214                   252\n",
       "215                   147\n",
       "251                  2870\n",
       "252                  3454\n",
       "253                  3021\n",
       "254                  3519\n",
       "255                  3552\n",
       "311                   884\n",
       "312                   616\n",
       "313                   400\n",
       "314                   249\n",
       "315                   132\n",
       "351                  2669\n",
       "352                  3184\n",
       "353                  3136\n",
       "354                  3598\n",
       "355                  3869\n",
       "411                   887\n",
       "412                   675\n",
       "413                   423\n",
       "414                   262\n",
       "415                   142\n",
       "451                  2784\n",
       "452                  2831\n",
       "453                  3090\n",
       "454                  3776\n",
       "455                  3512\n",
       "511                   797\n",
       "512                   510\n",
       "513                   380\n",
       "514                   322\n",
       "515                   182\n",
       "551                  2886\n",
       "552                  2836\n",
       "553                  3085\n",
       "554                  3697\n",
       "555                  3959"
      ]
     },
     "execution_count": 206,
     "metadata": {},
     "output_type": "execute_result"
    }
   ],
   "source": [
    "for_rfm.groupby(\"RFM_r\").agg({'customer_unique_id':'count'})\n"
   ]
  }
 ],
 "metadata": {
  "kernelspec": {
   "display_name": "Python 3",
   "language": "python",
   "name": "python3"
  },
  "language_info": {
   "codemirror_mode": {
    "name": "ipython",
    "version": 3
   },
   "file_extension": ".py",
   "mimetype": "text/x-python",
   "name": "python",
   "nbconvert_exporter": "python",
   "pygments_lexer": "ipython3",
   "version": "3.7.3"
  }
 },
 "nbformat": 4,
 "nbformat_minor": 4
}
